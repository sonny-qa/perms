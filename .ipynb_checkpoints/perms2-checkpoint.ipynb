{
 "cells": [
  {
   "cell_type": "code",
   "execution_count": 2,
   "metadata": {
    "collapsed": false
   },
   "outputs": [],
   "source": [
    "from mpl_toolkits.mplot3d import Axes3D\n",
    "import matplotlib.pyplot as plt\n",
    "import numpy as np\n",
    "from itertools import product, combinations\n"
   ]
  },
  {
   "cell_type": "code",
   "execution_count": null,
   "metadata": {
    "collapsed": false
   },
   "outputs": [],
   "source": []
  },
  {
   "cell_type": "code",
   "execution_count": null,
   "metadata": {
    "collapsed": false
   },
   "outputs": [],
   "source": []
  },
  {
   "cell_type": "code",
   "execution_count": 3,
   "metadata": {
    "collapsed": true
   },
   "outputs": [],
   "source": [
    "ids = [x for x in range(1,13)]\n",
    "perms = [50,100,200,50,100,50,500,0,80,100,50,800]\n",
    "\n"
   ]
  },
  {
   "cell_type": "code",
   "execution_count": 4,
   "metadata": {
    "collapsed": false
   },
   "outputs": [
    {
     "ename": "NameError",
     "evalue": "name 'vols' is not defined",
     "output_type": "error",
     "traceback": [
      "\u001b[0;31m---------------------------------------------------------------------------\u001b[0m",
      "\u001b[0;31mNameError\u001b[0m                                 Traceback (most recent call last)",
      "\u001b[0;32m<ipython-input-4-b308d24eb764>\u001b[0m in \u001b[0;36m<module>\u001b[0;34m()\u001b[0m\n\u001b[1;32m      4\u001b[0m     \u001b[0mmydict\u001b[0m\u001b[0;34m[\u001b[0m\u001b[0;34m'id'\u001b[0m\u001b[0;34m]\u001b[0m\u001b[0;34m=\u001b[0m\u001b[0mids\u001b[0m\u001b[0;34m[\u001b[0m\u001b[0mi\u001b[0m\u001b[0;34m]\u001b[0m\u001b[0;34m\u001b[0m\u001b[0m\n\u001b[1;32m      5\u001b[0m     \u001b[0mmydict\u001b[0m\u001b[0;34m[\u001b[0m\u001b[0;34m'perm'\u001b[0m\u001b[0;34m]\u001b[0m\u001b[0;34m=\u001b[0m\u001b[0mperms\u001b[0m\u001b[0;34m[\u001b[0m\u001b[0mi\u001b[0m\u001b[0;34m]\u001b[0m\u001b[0;34m\u001b[0m\u001b[0m\n\u001b[0;32m----> 6\u001b[0;31m     \u001b[0mmydict\u001b[0m\u001b[0;34m[\u001b[0m\u001b[0;34m'vol'\u001b[0m\u001b[0;34m]\u001b[0m\u001b[0;34m=\u001b[0m\u001b[0mvols\u001b[0m\u001b[0;34m[\u001b[0m\u001b[0mi\u001b[0m\u001b[0;34m]\u001b[0m\u001b[0;34m\u001b[0m\u001b[0m\n\u001b[0m\u001b[1;32m      7\u001b[0m \u001b[0;34m\u001b[0m\u001b[0m\n\u001b[1;32m      8\u001b[0m     \u001b[0mcells\u001b[0m\u001b[0;34m.\u001b[0m\u001b[0mappend\u001b[0m\u001b[0;34m(\u001b[0m\u001b[0mmydict\u001b[0m\u001b[0;34m)\u001b[0m\u001b[0;34m\u001b[0m\u001b[0m\n",
      "\u001b[0;31mNameError\u001b[0m: name 'vols' is not defined"
     ]
    }
   ],
   "source": [
    "cells = []\n",
    "for i in range(len(ids)):\n",
    "    mydict = {}\n",
    "    mydict['id']=ids[i]\n",
    "    mydict['perm']=perms[i]\n",
    "    mydict['vol']=vols[i]\n",
    "    \n",
    "    cells.append(mydict)\n"
   ]
  },
  {
   "cell_type": "code",
   "execution_count": 54,
   "metadata": {
    "collapsed": false
   },
   "outputs": [],
   "source": [
    "import xlrd\n",
    "\n",
    "x_perm = []\n",
    "y_perm = []\n",
    "z_perm = []\n",
    "\n",
    "#load data\n",
    "book = xlrd.open_workbook('data2.xlsx')\n",
    "sheet = book.sheet_by_name('Sheet1')\n",
    "data =[[sheet.cell_value(r,c) for c in range(2)] for r in range(60)]\n",
    "y_perm2 = []\n",
    "for i in range(len(data)):\n",
    "    y_perm.append(data[i][0])\n",
    "    x_perm.append(data[i][0])\n",
    "    z_perm.append(data[i][1])"
   ]
  },
  {
   "cell_type": "code",
   "execution_count": null,
   "metadata": {
    "collapsed": false
   },
   "outputs": [],
   "source": []
  },
  {
   "cell_type": "code",
   "execution_count": 55,
   "metadata": {
    "collapsed": true
   },
   "outputs": [],
   "source": [
    "cells=[]\n",
    "\n",
    "#create cell dictionaries\n",
    "for z in range(1,4): \n",
    "    for y in range(1,5):\n",
    "        for x in range(1,6):\n",
    "            mydict = {}\n",
    "            mydict['y']=y\n",
    "            mydict['x']=x\n",
    "            mydict['z']=z\n",
    "            cells.append(mydict) \n",
    "\n"
   ]
  },
  {
   "cell_type": "code",
   "execution_count": 56,
   "metadata": {
    "collapsed": true
   },
   "outputs": [],
   "source": [
    "#populate dictionaries with data\n",
    "\n",
    "for i in range(len(cells)):\n",
    "\n",
    "    cells[i]['y_perm']=y_perm[i]\n",
    "    cells[i]['x_perm']=x_perm[i]\n",
    "    cells[i]['z_perm']=z_perm[i]"
   ]
  },
  {
   "cell_type": "code",
   "execution_count": 386,
   "metadata": {
    "collapsed": false
   },
   "outputs": [],
   "source": [
    "def arith(clist,k_to_avg,var_dim):\n",
    "    \n",
    "    results = []\n",
    "    #find max range of variable dimension\n",
    "    for i in range(len(cells)):\n",
    "        start = 0\n",
    "        if ((cells[i][var_dim]) > start ):\n",
    "            start = (cells[i][var_dim])\n",
    "    length = start\n",
    "    \n",
    "    \n",
    "    #loop over all slices\n",
    "    current = 0\n",
    "    count = 0\n",
    "    avg = 0\n",
    "    for i in range(1,length+1):\n",
    "        for j in range(len(cells)):\n",
    "            if(cells[j][var_dim] ==i):\n",
    "                count+=1\n",
    "                current += cells[j][k_to_avg]  \n",
    "                avg =current/count\n",
    "        results.append(avg)\n",
    "        current = 0\n",
    "        count = 0\n",
    "    return(sum(results)/length)"
   ]
  },
  {
   "cell_type": "code",
   "execution_count": 387,
   "metadata": {
    "collapsed": false
   },
   "outputs": [
    {
     "data": {
      "text/plain": [
       "141.13333333333333"
      ]
     },
     "execution_count": 387,
     "metadata": {},
     "output_type": "execute_result"
    }
   ],
   "source": [
    "arith(cells,'x_perm','z')"
   ]
  },
  {
   "cell_type": "code",
   "execution_count": 376,
   "metadata": {
    "collapsed": false
   },
   "outputs": [],
   "source": [
    "def harm(clist,k_to_avg,var_dim):\n",
    "    \n",
    "    results = []\n",
    "    #find max range of variable dimension\n",
    "    for i in range(len(cells)):\n",
    "        start = 0\n",
    "        if ((cells[i][var_dim]) > start ):\n",
    "            start = (cells[i][var_dim])\n",
    "    length = start\n",
    "    \n",
    "    \n",
    "    #loop over all slices\n",
    "    current = 0\n",
    "    count = 0\n",
    "    avg = 0\n",
    "    for i in range(1,length+1):\n",
    "        for j in range(len(cells)):\n",
    "            if(cells[j][var_dim] ==i):\n",
    "                count+=1\n",
    "                current += cells[j][k_to_avg]\n",
    "                avg =current/count\n",
    "                \n",
    "        \n",
    "        results.append(avg)\n",
    "        current = 0\n",
    "        count = 0\n",
    "    r =0\n",
    "    for item in results:\n",
    "        r +=(1/item)\n",
    "    return(length/r)\n",
    "        "
   ]
  },
  {
   "cell_type": "code",
   "execution_count": 430,
   "metadata": {
    "collapsed": false
   },
   "outputs": [],
   "source": [
    "def geo(clist,k_to_avg,var_dim):\n",
    "    \n",
    "    results = []\n",
    "    #find max range of variable dimension\n",
    "    for i in range(len(cells)):\n",
    "        start = 0\n",
    "        if ((cells[i][var_dim]) > start ):\n",
    "            start = (cells[i][var_dim])\n",
    "    length = start\n",
    "    \n",
    "    \n",
    "    #loop over all slices\n",
    "    current = 0\n",
    "    count = 0\n",
    "    avg = 0\n",
    "    for i in range(1,length+1):\n",
    "        for j in range(len(cells)):\n",
    "            if(cells[j][var_dim] ==i):\n",
    "                count+=1\n",
    "                current += cells[j][k_to_avg]\n",
    "                avg =current/count\n",
    "                \n",
    "        \n",
    "        results.append(avg)\n",
    "        current = 0\n",
    "        count = 0\n",
    "        \n",
    "    return ((reduce(lambda x, y: x*y, results))**float((1.0/length)))\n",
    "    \n",
    "        "
   ]
  },
  {
   "cell_type": "markdown",
   "metadata": {},
   "source": [
    "Calculate Arithmetic means"
   ]
  },
  {
   "cell_type": "code",
   "execution_count": 400,
   "metadata": {
    "collapsed": false
   },
   "outputs": [
    {
     "name": "stdout",
     "output_type": "stream",
     "text": [
      "('x_perm: ', 141.13333333333333)\n",
      "('y_perm: ', 141.13333333333333)\n",
      "('z_perm: ', 4.68)\n"
     ]
    }
   ],
   "source": [
    "print('x_perm: ',arith(cells,'x_perm','z'))\n",
    "print('y_perm: ',arith(cells,'y_perm','y'))\n",
    "print('z_perm: ',arith(cells,'z_perm','x'))"
   ]
  },
  {
   "cell_type": "markdown",
   "metadata": {},
   "source": [
    "Calculate Harmonic means"
   ]
  },
  {
   "cell_type": "code",
   "execution_count": 403,
   "metadata": {
    "collapsed": false
   },
   "outputs": [
    {
     "name": "stdout",
     "output_type": "stream",
     "text": [
      "('x_perm', 128.64220482551403)\n",
      "('y_perm', 125.91725291424663)\n",
      "('z_perm', 2.6044849892389443)\n"
     ]
    }
   ],
   "source": [
    "print('x_perm',harm(cells,'x_perm','x'))\n",
    "print('y_perm',harm(cells,'y_perm','y'))\n",
    "print('z_perm',harm(cells,'z_perm','z'))"
   ]
  },
  {
   "cell_type": "markdown",
   "metadata": {},
   "source": [
    "Calculate Geometric means"
   ]
  },
  {
   "cell_type": "code",
   "execution_count": 431,
   "metadata": {
    "collapsed": false
   },
   "outputs": [
    {
     "name": "stdout",
     "output_type": "stream",
     "text": [
      "('x_perm', 130.44265768032574)\n",
      "('y_perm', 132.75390012402175)\n",
      "('z_perm', 4.359441791612165)\n"
     ]
    }
   ],
   "source": [
    "print('x_perm',geo(cells,'x_perm','z'))\n",
    "print('y_perm',geo(cells,'y_perm','y'))\n",
    "print('z_perm',geo(cells,'z_perm','x'))"
   ]
  },
  {
   "cell_type": "code",
   "execution_count": 675,
   "metadata": {
    "collapsed": false
   },
   "outputs": [],
   "source": [
    "def carswell_max(clist,k_to_avg,**kwargs):\n",
    "    dim1 = kwargs.get('dim1', None)\n",
    "    dim2 = kwargs.get('dim2',0)\n",
    "    \n",
    "    results = []\n",
    "    results2 = []\n",
    "    \n",
    "    for i in range(len(cells)):\n",
    "        start_d1 = 0\n",
    "        start_d2 = 0\n",
    "        if ((cells[i][dim1]) > start_d1 ):\n",
    "            start_d1 = (cells[i][dim1])\n",
    "        if ((dim2!= 0) and (cells[i][dim2]) > start_d2 ):\n",
    "            start_d2 = (cells[i][dim2])\n",
    "    length1 = start_d1\n",
    "    length2 = start_d2\n",
    "    \n",
    "    for j in range(1,length1+1):\n",
    "        val  =filter(lambda x: x[dim1] == j, cells)\n",
    "        result = ([x[k_to_avg] for x in val])\n",
    "        \n",
    "        results.append(result)\n",
    "    \n",
    "    #remove first empty list\n",
    "  \n",
    "    \n",
    "    #calculate arith average of selected values\n",
    "    for item in results:\n",
    "        l = len(item)\n",
    "        tot = (reduce(lambda x, y: (x+y), item))\n",
    "        results2.append(tot/l)\n",
    "    \n",
    "\n",
    "    #return the harmonic average of the arithmetic averages\n",
    "    return(len(results2)/reduce(lambda x,y: x+y, (map(lambda x: 1/x, results2))))"
   ]
  },
  {
   "cell_type": "code",
   "execution_count": 676,
   "metadata": {
    "collapsed": false
   },
   "outputs": [
    {
     "data": {
      "text/plain": [
       "2.6044849892389443"
      ]
     },
     "execution_count": 676,
     "metadata": {},
     "output_type": "execute_result"
    }
   ],
   "source": []
  },
  {
   "cell_type": "code",
   "execution_count": 699,
   "metadata": {
    "collapsed": false
   },
   "outputs": [],
   "source": [
    "def carswell_min(clist,k_to_avg,**kwargs):\n",
    "    dim1 = kwargs.get('dim1', None)\n",
    "    dim2 = kwargs.get('dim2',0)\n",
    "    \n",
    "    results = []\n",
    "    results2 = []\n",
    "    \n",
    "    for i in range(len(cells)):\n",
    "        start_d1 = 0\n",
    "        start_d2 = 0\n",
    "        if ((cells[i][dim1]) > start_d1 ):\n",
    "            start_d1 = (cells[i][dim1])\n",
    "        if ((dim2!= 0) and (cells[i][dim2]) > start_d2 ):\n",
    "            start_d2 = (cells[i][dim2])\n",
    "    length1 = start_d1\n",
    "    length2 = start_d2\n",
    "    \n",
    "    #loop over first dimension\n",
    "    for j in range(1,length1+1):\n",
    "        val  =filter(lambda x: x[dim1] == j, cells)\n",
    "        result = ([x[k_to_avg] for x in val])\n",
    "        \n",
    "        (results.append(result))\n",
    "        \n",
    "    #then over second dimension\n",
    "    for j in range(1,(length2+1)):\n",
    "        val  =filter(lambda x: x[dim2] == j, cells)\n",
    "        result = ([x[k_to_avg] for x in val])\n",
    "    \n",
    "        (results.append(result))    \n",
    "\n",
    "    #calculate the harmonic average of selected values\n",
    "    sums = [reduce(lambda x,y: x+y, map(lambda x: (1.0/x),item)) for item in results]\n",
    "    lens = ([len(a) for a in results])\n",
    "    \n",
    "    #then calculate the arithmetic average of the harmonic averages\n",
    "    return (reduce(lambda x,y: x+y,([lens[i]/sums[i] for i in range(len(sums))])))/len(sums)\n",
    " "
   ]
  },
  {
   "cell_type": "code",
   "execution_count": 700,
   "metadata": {
    "collapsed": false
   },
   "outputs": [
    {
     "data": {
      "text/plain": [
       "2.2634292263008904"
      ]
     },
     "execution_count": 700,
     "metadata": {},
     "output_type": "execute_result"
    }
   ],
   "source": [
    "carswell_min(cells,'z_perm',dim1='y',dim2='x')"
   ]
  },
  {
   "cell_type": "code",
   "execution_count": 701,
   "metadata": {
    "collapsed": false
   },
   "outputs": [
    {
     "data": {
      "text/plain": [
       "2.6044849892389443"
      ]
     },
     "execution_count": 701,
     "metadata": {},
     "output_type": "execute_result"
    }
   ],
   "source": [
    "carswell_max(cells,'z_perm',dim1='z')"
   ]
  },
  {
   "cell_type": "markdown",
   "metadata": {},
   "source": [
    "Define Harmonic Average"
   ]
  },
  {
   "cell_type": "code",
   "execution_count": 13,
   "metadata": {
    "collapsed": true
   },
   "outputs": [],
   "source": [
    "def harmonic(cells,k_to_avg):\n",
    "    #it should take a list of cells or list of values and find the harmonic average\n",
    "    length = len(cells)\n",
    "    \n",
    "    if (type(cells[0])==dict):\n",
    "        a = reduce(lambda x,y: x+y, map(lambda item: 1/(item[k_to_avg]) ,cells))\n",
    "    else:\n",
    "        a = reduce(lambda x,y: x+y, map(lambda item: 1/(item) ,cells))\n",
    "    \n",
    "    return(length/a)"
   ]
  },
  {
   "cell_type": "code",
   "execution_count": 707,
   "metadata": {
    "collapsed": false
   },
   "outputs": [
    {
     "data": {
      "text/plain": [
       "89.26625840628171"
      ]
     },
     "execution_count": 707,
     "metadata": {},
     "output_type": "execute_result"
    }
   ],
   "source": [
    "harmonic(filter(lambda x: x['x']==1, cells),'x_perm')"
   ]
  },
  {
   "cell_type": "markdown",
   "metadata": {},
   "source": []
  },
  {
   "cell_type": "code",
   "execution_count": 91,
   "metadata": {
    "collapsed": false
   },
   "outputs": [],
   "source": [
    "def arithmetic(cells,k_to_avg):\n",
    "    #it should take a list of cells and find the arithmetic average\n",
    "    length = len(cells)\n",
    "    if (type(cells[0])==dict):\n",
    "        a = reduce(lambda x,y: x+y,(map(lambda x: x[k_to_avg] ,cells)))\n",
    "    else:\n",
    "        a = reduce(lambda x,y: x+y, map(lambda item: item ,cells))\n",
    "        \n",
    "    return(a/length)"
   ]
  },
  {
   "cell_type": "code",
   "execution_count": 92,
   "metadata": {
    "collapsed": false
   },
   "outputs": [
    {
     "data": {
      "text/plain": [
       "129.16666666666666"
      ]
     },
     "execution_count": 92,
     "metadata": {},
     "output_type": "execute_result"
    }
   ],
   "source": [
    "arithmetic(filter(lambda x: x['x']==1, cells),'x_perm')"
   ]
  },
  {
   "cell_type": "code",
   "execution_count": 725,
   "metadata": {
    "collapsed": false
   },
   "outputs": [],
   "source": [
    "def geometric(cells,k_to_avg):\n",
    "    #it should take a list of cells and take the geometric average\n",
    "    length = len(cells)\n",
    "    a = reduce(lambda x,y: x*y,(map(lambda x: x[k_to_avg] ,cells)))\n",
    "    return(a**(1.0/length))"
   ]
  },
  {
   "cell_type": "code",
   "execution_count": 726,
   "metadata": {
    "collapsed": false
   },
   "outputs": [
    {
     "data": {
      "text/plain": [
       "105.68044458161545"
      ]
     },
     "execution_count": 726,
     "metadata": {},
     "output_type": "execute_result"
    }
   ],
   "source": [
    "geometric(filter(lambda x: x['x']==1, cells),'x_perm')"
   ]
  },
  {
   "cell_type": "code",
   "execution_count": 891,
   "metadata": {
    "collapsed": false
   },
   "outputs": [],
   "source": [
    "def carswell_lower(cells,k_to_avg):\n",
    "    results = []\n",
    "    results2 = []\n",
    "    \n",
    "    for z in range(1,4):\n",
    "        for y in range(1,5):\n",
    "            for x in range(1,6):\n",
    "                #find cells that meet the current step\n",
    "                res = filter(lambda cell: cell['x']==x and cell['y']==y and cell['z']==z,cells)[0]\n",
    "                results.append(res)\n",
    "            b = harmonic(map(lambda x: x,results),'x_perm')\n",
    "            results =[]\n",
    "            results2.append(b)\n",
    "    return((reduce(lambda x,y: x+y,results2))/len(results2))"
   ]
  },
  {
   "cell_type": "code",
   "execution_count": 892,
   "metadata": {
    "collapsed": false
   },
   "outputs": [
    {
     "data": {
      "text/plain": [
       "119.04551494336799"
      ]
     },
     "execution_count": 892,
     "metadata": {},
     "output_type": "execute_result"
    }
   ],
   "source": [
    "carswell_lower(cells,'x_perm')"
   ]
  },
  {
   "cell_type": "code",
   "execution_count": 14,
   "metadata": {
    "collapsed": true
   },
   "outputs": [],
   "source": [
    "def carswell_lowery(cells,k_to_avg):\n",
    "    results = []\n",
    "    results2 = []\n",
    "    \n",
    "    for z in range(1,4):\n",
    "        for x in range(1,6):\n",
    "            for y in range(1,5):\n",
    "                #find cells that meet the current step\n",
    "                res = filter(lambda cell: cell['x']==x and cell['y']==y and cell['z']==z,cells)[0]\n",
    "                results.append(res)\n",
    "            b = harmonic(map(lambda x: x,results),'x_perm')\n",
    "            results =[]\n",
    "            results2.append(b)\n",
    "    return((reduce(lambda x,y: x+y,results2))/len(results2))"
   ]
  },
  {
   "cell_type": "code",
   "execution_count": 17,
   "metadata": {
    "collapsed": false
   },
   "outputs": [
    {
     "data": {
      "text/plain": [
       "120.16495590138003"
      ]
     },
     "execution_count": 17,
     "metadata": {},
     "output_type": "execute_result"
    }
   ],
   "source": [
    "carswell_lowery(cells,'x_perm')"
   ]
  },
  {
   "cell_type": "code",
   "execution_count": 97,
   "metadata": {
    "collapsed": true
   },
   "outputs": [],
   "source": [
    "def carswell_lower(cells,k_to_avg,dim1,dim2,dim3):\n",
    "    values = []\n",
    "    results = []\n",
    "    \n",
    "    #find max dimensions of all dims\n",
    "    d1_max = reduce(lambda x,y: x if x>y else y,map(lambda x: x[dim1] ,cells))\n",
    "    d2_max = reduce(lambda x,y: x if x>y else y,map(lambda x: x[dim2] ,cells))\n",
    "    d3_max = reduce(lambda x,y: x if x>y else y,map(lambda x: x[dim3] ,cells))\n",
    "   \n",
    "    for i in range(1,d3_max+1):\n",
    "        for j in range(1,d2_max+1):\n",
    "            for k in range(1,d1_max+1):\n",
    "                #find cells that meet the current step\n",
    "                values.append(filter(lambda cell: cell[dim3]== i and cell[dim2]==j and cell[dim1]==k,cells)[0])\n",
    "            \n",
    "            #calculate harmonic mean of values\n",
    "            harms = harmonic(map(lambda x: x,values),k_to_avg)\n",
    "            #clear the temporary array and save the harmonic means\n",
    "            values =[]\n",
    "            results.append(harms)\n",
    "    #calculate and return the arithmetic mean\n",
    "    return(arithmetic(results,k_to_avg))"
   ]
  },
  {
   "cell_type": "code",
   "execution_count": 98,
   "metadata": {
    "collapsed": false
   },
   "outputs": [
    {
     "data": {
      "text/plain": [
       "2.7979209385759565"
      ]
     },
     "execution_count": 98,
     "metadata": {},
     "output_type": "execute_result"
    }
   ],
   "source": [
    "carswell_lower(cells,'z_perm','z','y','x')"
   ]
  },
  {
   "cell_type": "code",
   "execution_count": 31,
   "metadata": {
    "collapsed": true
   },
   "outputs": [],
   "source": [
    "test = {}\n",
    "test2=[]"
   ]
  },
  {
   "cell_type": "code",
   "execution_count": 116,
   "metadata": {
    "collapsed": false
   },
   "outputs": [],
   "source": [
    "def carswell_upper2(cells,k_to_avg,dim1,dim2,dim3):\n",
    "    values = []\n",
    "    results = []\n",
    "    \n",
    "    #find max dimensions of all dims\n",
    "    d1_max = reduce(lambda x,y: x if x>y else y,map(lambda x: x[dim1] ,cells))\n",
    "    d2_max = reduce(lambda x,y: x if x>y else y,map(lambda x: x[dim2] ,cells))\n",
    "    d3_max = reduce(lambda x,y: x if x>y else y,map(lambda x: x[dim3] ,cells))\n",
    "   \n",
    "    for i in range(1,d3_max+1):\n",
    "        for j in range(1,d2_max+1):\n",
    "            for k in range(1,d1_max+1):\n",
    "                #find cells that meet the current step\n",
    "                values.append(filter(lambda cell: cell[dim3]== i and cell[dim2]==j and cell[dim1]==k,cells)[0])\n",
    "        \n",
    "        #calculate arithmetic mean of values\n",
    "        harms = arithmetic(map(lambda x: x,values),k_to_avg)\n",
    "            \n",
    "        #clear the temporary array and save the harmonic means\n",
    "        values =[]\n",
    "        results.append(harms)\n",
    "    #calculate and return the harmonic mean of harmonic means\n",
    "    return(harmonic(results,k_to_avg))"
   ]
  },
  {
   "cell_type": "code",
   "execution_count": 125,
   "metadata": {
    "collapsed": false
   },
   "outputs": [
    {
     "data": {
      "text/plain": [
       "2.838820356922291"
      ]
     },
     "execution_count": 125,
     "metadata": {},
     "output_type": "execute_result"
    }
   ],
   "source": [
    "carswell_upper2(cells,'z_perm','x','y','z')"
   ]
  },
  {
   "cell_type": "code",
   "execution_count": 57,
   "metadata": {
    "collapsed": false
   },
   "outputs": [
    {
     "data": {
      "text/plain": [
       "[{'x': 1, 'x_perm': 50.0, 'y': 1, 'y_perm': 50.0, 'z': 1, 'z_perm': 5.0},\n",
       " {'x': 2, 'x_perm': 60.0, 'y': 1, 'y_perm': 60.0, 'z': 1, 'z_perm': 6.0},\n",
       " {'x': 3, 'x_perm': 70.0, 'y': 1, 'y_perm': 70.0, 'z': 1, 'z_perm': 7.0},\n",
       " {'x': 4, 'x_perm': 80.0, 'y': 1, 'y_perm': 80.0, 'z': 1, 'z_perm': 8.0},\n",
       " {'x': 5, 'x_perm': 100.0, 'y': 1, 'y_perm': 100.0, 'z': 1, 'z_perm': 10.0},\n",
       " {'x': 1, 'x_perm': 55.0, 'y': 2, 'y_perm': 55.0, 'z': 1, 'z_perm': 5.5},\n",
       " {'x': 2, 'x_perm': 65.0, 'y': 2, 'y_perm': 65.0, 'z': 1, 'z_perm': 6.5},\n",
       " {'x': 3, 'x_perm': 45.0, 'y': 2, 'y_perm': 45.0, 'z': 1, 'z_perm': 4.5},\n",
       " {'x': 4, 'x_perm': 35.0, 'y': 2, 'y_perm': 35.0, 'z': 1, 'z_perm': 3.5},\n",
       " {'x': 5, 'x_perm': 150.0, 'y': 2, 'y_perm': 150.0, 'z': 1, 'z_perm': 15.0},\n",
       " {'x': 1, 'x_perm': 60.0, 'y': 3, 'y_perm': 60.0, 'z': 1, 'z_perm': 6.0},\n",
       " {'x': 2, 'x_perm': 68.0, 'y': 3, 'y_perm': 68.0, 'z': 1, 'z_perm': 7.0},\n",
       " {'x': 3, 'x_perm': 100.0, 'y': 3, 'y_perm': 100.0, 'z': 1, 'z_perm': 10.0},\n",
       " {'x': 4, 'x_perm': 120.0, 'y': 3, 'y_perm': 120.0, 'z': 1, 'z_perm': 12.0},\n",
       " {'x': 5, 'x_perm': 200.0, 'y': 3, 'y_perm': 200.0, 'z': 1, 'z_perm': 20.0},\n",
       " {'x': 1, 'x_perm': 60.0, 'y': 4, 'y_perm': 60.0, 'z': 1, 'z_perm': 6.0},\n",
       " {'x': 2, 'x_perm': 60.0, 'y': 4, 'y_perm': 60.0, 'z': 1, 'z_perm': 6.0},\n",
       " {'x': 3, 'x_perm': 150.0, 'y': 4, 'y_perm': 150.0, 'z': 1, 'z_perm': 15.0},\n",
       " {'x': 4, 'x_perm': 200.0, 'y': 4, 'y_perm': 200.0, 'z': 1, 'z_perm': 20.0},\n",
       " {'x': 5, 'x_perm': 300.0, 'y': 4, 'y_perm': 300.0, 'z': 1, 'z_perm': 30.0},\n",
       " {'x': 1, 'x_perm': 200.0, 'y': 1, 'y_perm': 200.0, 'z': 2, 'z_perm': 2.0},\n",
       " {'x': 2, 'x_perm': 150.0, 'y': 1, 'y_perm': 150.0, 'z': 2, 'z_perm': 1.5},\n",
       " {'x': 3, 'x_perm': 160.0, 'y': 1, 'y_perm': 160.0, 'z': 2, 'z_perm': 1.6},\n",
       " {'x': 4, 'x_perm': 100.0, 'y': 1, 'y_perm': 100.0, 'z': 2, 'z_perm': 1.0},\n",
       " {'x': 5, 'x_perm': 200.0, 'y': 1, 'y_perm': 200.0, 'z': 2, 'z_perm': 2.0},\n",
       " {'x': 1, 'x_perm': 220.0, 'y': 2, 'y_perm': 220.0, 'z': 2, 'z_perm': 2.2},\n",
       " {'x': 2, 'x_perm': 100.0, 'y': 2, 'y_perm': 100.0, 'z': 2, 'z_perm': 1.0},\n",
       " {'x': 3, 'x_perm': 90.0, 'y': 2, 'y_perm': 90.0, 'z': 2, 'z_perm': 0.9},\n",
       " {'x': 4, 'x_perm': 80.0, 'y': 2, 'y_perm': 80.0, 'z': 2, 'z_perm': 0.8},\n",
       " {'x': 5, 'x_perm': 280.0, 'y': 2, 'y_perm': 280.0, 'z': 2, 'z_perm': 2.8},\n",
       " {'x': 1, 'x_perm': 250.0, 'y': 3, 'y_perm': 250.0, 'z': 2, 'z_perm': 2.5},\n",
       " {'x': 2, 'x_perm': 200.0, 'y': 3, 'y_perm': 200.0, 'z': 2, 'z_perm': 2.0},\n",
       " {'x': 3, 'x_perm': 120.0, 'y': 3, 'y_perm': 120.0, 'z': 2, 'z_perm': 1.2},\n",
       " {'x': 4, 'x_perm': 90.0, 'y': 3, 'y_perm': 90.0, 'z': 2, 'z_perm': 0.9},\n",
       " {'x': 5, 'x_perm': 400.0, 'y': 3, 'y_perm': 400.0, 'z': 2, 'z_perm': 4.0},\n",
       " {'x': 1, 'x_perm': 300.0, 'y': 4, 'y_perm': 300.0, 'z': 2, 'z_perm': 3.0},\n",
       " {'x': 2, 'x_perm': 250.0, 'y': 4, 'y_perm': 250.0, 'z': 2, 'z_perm': 2.5},\n",
       " {'x': 3, 'x_perm': 300.0, 'y': 4, 'y_perm': 300.0, 'z': 2, 'z_perm': 3.0},\n",
       " {'x': 4, 'x_perm': 400.0, 'y': 4, 'y_perm': 400.0, 'z': 2, 'z_perm': 4.0},\n",
       " {'x': 5, 'x_perm': 600.0, 'y': 4, 'y_perm': 600.0, 'z': 2, 'z_perm': 6.0},\n",
       " {'x': 1, 'x_perm': 75.0, 'y': 1, 'y_perm': 75.0, 'z': 3, 'z_perm': 1.5},\n",
       " {'x': 2, 'x_perm': 60.0, 'y': 1, 'y_perm': 60.0, 'z': 3, 'z_perm': 1.2},\n",
       " {'x': 3, 'x_perm': 70.0, 'y': 1, 'y_perm': 70.0, 'z': 3, 'z_perm': 1.4},\n",
       " {'x': 4, 'x_perm': 55.0, 'y': 1, 'y_perm': 55.0, 'z': 3, 'z_perm': 1.1},\n",
       " {'x': 5, 'x_perm': 90.0, 'y': 1, 'y_perm': 90.0, 'z': 3, 'z_perm': 1.8},\n",
       " {'x': 1, 'x_perm': 80.0, 'y': 2, 'y_perm': 80.0, 'z': 3, 'z_perm': 1.6},\n",
       " {'x': 2, 'x_perm': 50.0, 'y': 2, 'y_perm': 50.0, 'z': 3, 'z_perm': 1.0},\n",
       " {'x': 3, 'x_perm': 40.0, 'y': 2, 'y_perm': 40.0, 'z': 3, 'z_perm': 0.8},\n",
       " {'x': 4, 'x_perm': 35.0, 'y': 2, 'y_perm': 35.0, 'z': 3, 'z_perm': 0.7},\n",
       " {'x': 5, 'x_perm': 130.0, 'y': 2, 'y_perm': 130.0, 'z': 3, 'z_perm': 2.6},\n",
       " {'x': 1, 'x_perm': 90.0, 'y': 3, 'y_perm': 90.0, 'z': 3, 'z_perm': 1.8},\n",
       " {'x': 2, 'x_perm': 80.0, 'y': 3, 'y_perm': 80.0, 'z': 3, 'z_perm': 1.6},\n",
       " {'x': 3, 'x_perm': 65.0, 'y': 3, 'y_perm': 65.0, 'z': 3, 'z_perm': 1.3},\n",
       " {'x': 4, 'x_perm': 65.0, 'y': 3, 'y_perm': 65.0, 'z': 3, 'z_perm': 1.3},\n",
       " {'x': 5, 'x_perm': 180.0, 'y': 3, 'y_perm': 180.0, 'z': 3, 'z_perm': 3.6},\n",
       " {'x': 1, 'x_perm': 110.0, 'y': 4, 'y_perm': 110.0, 'z': 3, 'z_perm': 2.2},\n",
       " {'x': 2, 'x_perm': 90.0, 'y': 4, 'y_perm': 90.0, 'z': 3, 'z_perm': 1.8},\n",
       " {'x': 3, 'x_perm': 135.0, 'y': 4, 'y_perm': 135.0, 'z': 3, 'z_perm': 2.7},\n",
       " {'x': 4, 'x_perm': 180.0, 'y': 4, 'y_perm': 180.0, 'z': 3, 'z_perm': 3.6},\n",
       " {'x': 5, 'x_perm': 270.0, 'y': 4, 'y_perm': 270.0, 'z': 3, 'z_perm': 5.4}]"
      ]
     },
     "execution_count": 57,
     "metadata": {},
     "output_type": "execute_result"
    }
   ],
   "source": [
    "cells"
   ]
  },
  {
   "cell_type": "code",
   "execution_count": null,
   "metadata": {
    "collapsed": true
   },
   "outputs": [],
   "source": []
  }
 ],
 "metadata": {
  "anaconda-cloud": {},
  "kernelspec": {
   "display_name": "Python [Root]",
   "language": "python",
   "name": "Python [Root]"
  },
  "language_info": {
   "codemirror_mode": {
    "name": "ipython",
    "version": 2
   },
   "file_extension": ".py",
   "mimetype": "text/x-python",
   "name": "python",
   "nbconvert_exporter": "python",
   "pygments_lexer": "ipython2",
   "version": "2.7.12"
  }
 },
 "nbformat": 4,
 "nbformat_minor": 0
}
