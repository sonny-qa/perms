{
 "cells": [
  {
   "cell_type": "markdown",
   "metadata": {},
   "source": [
    "## Q1"
   ]
  },
  {
   "cell_type": "markdown",
   "metadata": {},
   "source": [
    "### First, Load input data in form(x,y,z,x/y_perm,z_perm)"
   ]
  },
  {
   "cell_type": "code",
   "execution_count": 57,
   "metadata": {
    "collapsed": false
   },
   "outputs": [],
   "source": [
    "import xlrd\n",
    "import math\n",
    "\n",
    "x_perm = []\n",
    "y_perm = []\n",
    "z_perm = []\n",
    "\n",
    "#load data\n",
    "book = xlrd.open_workbook('data2.xlsx')\n",
    "sheet = book.sheet_by_name('Sheet1')\n",
    "data =[[sheet.cell_value(r,c) for c in range(2)] for r in range(60)]\n",
    "y_perm2 = []\n",
    "for i in range(len(data)):\n",
    "    y_perm.append(data[i][0])\n",
    "    x_perm.append(data[i][0])\n",
    "    z_perm.append(data[i][1])"
   ]
  },
  {
   "cell_type": "markdown",
   "metadata": {},
   "source": [
    "### Then create cells list - which consists of a dictionary for each cell, {x,y,z,x_perm,y_perm, z_perm}"
   ]
  },
  {
   "cell_type": "code",
   "execution_count": 58,
   "metadata": {
    "collapsed": true
   },
   "outputs": [],
   "source": [
    "cells=[]\n",
    "\n",
    "#create cell dictionaries\n",
    "for z in range(1,4): \n",
    "    for y in range(1,5):\n",
    "        for x in range(1,6):\n",
    "            mydict = {}\n",
    "            mydict['y']=y\n",
    "            mydict['x']=x\n",
    "            mydict['z']=z\n",
    "            cells.append(mydict) \n",
    "            \n",
    "#populate dictionaries with data\n",
    "\n",
    "for i in range(len(cells)):\n",
    "\n",
    "    cells[i]['y_perm']=y_perm[i]\n",
    "    cells[i]['x_perm']=x_perm[i]\n",
    "    cells[i]['z_perm']=z_perm[i]"
   ]
  },
  {
   "cell_type": "markdown",
   "metadata": {},
   "source": [
    "### Create method for airthmetic average of a list of cells or a list of values"
   ]
  },
  {
   "cell_type": "code",
   "execution_count": 59,
   "metadata": {
    "collapsed": true
   },
   "outputs": [],
   "source": [
    "def arithmetic(cells,k_to_avg):\n",
    "    #it should take a list of cells and find the arithmetic average\n",
    "    length = len(cells)\n",
    "    if (type(cells[0])==dict):\n",
    "        a = reduce(lambda x,y: x+y,(map(lambda x: x[k_to_avg] ,cells)))\n",
    "    else:\n",
    "        a = reduce(lambda x,y: x+y, map(lambda item: item ,cells))\n",
    "        \n",
    "    return(a/length)"
   ]
  },
  {
   "cell_type": "markdown",
   "metadata": {},
   "source": [
    "###Create method for harmonic average of a list of cells or a list of values"
   ]
  },
  {
   "cell_type": "code",
   "execution_count": 60,
   "metadata": {
    "collapsed": true
   },
   "outputs": [],
   "source": [
    "def harmonic(cells,k_to_avg):\n",
    "    #it should take a list of cells or list of values and find the harmonic average\n",
    "    length = len(cells)\n",
    "    \n",
    "    if (type(cells[0])==dict):\n",
    "        a = reduce(lambda x,y: x+y, map(lambda item: 1/(item[k_to_avg]) ,cells))\n",
    "    else:\n",
    "        a = reduce(lambda x,y: x+y, map(lambda item: 1/(item) ,cells))\n",
    "    \n",
    "    return(length/a)"
   ]
  },
  {
   "cell_type": "markdown",
   "metadata": {},
   "source": [
    "###Create method for geometric average of a list of cells or a list of values"
   ]
  },
  {
   "cell_type": "code",
   "execution_count": 61,
   "metadata": {
    "collapsed": true
   },
   "outputs": [],
   "source": [
    "def geometric(cells,k_to_avg):\n",
    "    #it should take a list of cells and take the geometric average\n",
    "    length = len(cells)\n",
    "    if(type(cells[0])==dict):\n",
    "        a = reduce(lambda x,y: x*y,(map(lambda x: x[k_to_avg] ,cells)))\n",
    "    else:\n",
    "        a = reduce(lambda x,y: x*y,(map(lambda x: x ,cells)))\n",
    "    return(a**(1.0/length))"
   ]
  },
  {
   "cell_type": "markdown",
   "metadata": {},
   "source": [
    "###Calculate arithmetic averages for Kx, Ky and Kz"
   ]
  },
  {
   "cell_type": "code",
   "execution_count": 62,
   "metadata": {
    "collapsed": false
   },
   "outputs": [
    {
     "name": "stdout",
     "output_type": "stream",
     "text": [
      "x perm: 141.133333\n",
      "y perm: 141.133333\n",
      "z perm: 4.781667\n"
     ]
    }
   ],
   "source": [
    "print 'x perm: %f' %(arithmetic(cells,'x_perm'))\n",
    "print'y perm: %f'%(arithmetic(cells,'y_perm'))\n",
    "print'z perm: %f'%(arithmetic(cells,'z_perm'))"
   ]
  },
  {
   "cell_type": "markdown",
   "metadata": {},
   "source": [
    "###Calculate harmonic averages for Kx, Ky and Kz"
   ]
  },
  {
   "cell_type": "code",
   "execution_count": 63,
   "metadata": {
    "collapsed": false,
    "scrolled": true
   },
   "outputs": [
    {
     "name": "stdout",
     "output_type": "stream",
     "text": [
      "x perm: 92.012156\n",
      "y perm: 92.012156\n",
      "z perm: 2.148953\n"
     ]
    }
   ],
   "source": [
    "print 'x perm: %f' %(harmonic(cells,'x_perm'))\n",
    "print'y perm: %f'%(harmonic(cells,'y_perm'))\n",
    "print'z perm: %f'%(harmonic(cells,'z_perm'))"
   ]
  },
  {
   "cell_type": "markdown",
   "metadata": {},
   "source": [
    "###Calculate geometric averages for Kx, Ky and Kz"
   ]
  },
  {
   "cell_type": "code",
   "execution_count": 64,
   "metadata": {
    "collapsed": false
   },
   "outputs": [
    {
     "name": "stdout",
     "output_type": "stream",
     "text": [
      "x perm: 112.010351\n",
      "y perm: 112.010351\n",
      "z perm: 3.041898\n"
     ]
    }
   ],
   "source": [
    "print 'x perm: %f' %(geometric(cells,'x_perm'))\n",
    "print'y perm: %f'%(geometric(cells,'y_perm'))\n",
    "print'z perm: %f'%(geometric(cells,'z_perm'))"
   ]
  },
  {
   "cell_type": "markdown",
   "metadata": {},
   "source": [
    "###Define the Carswell and Parsons Upper bound function"
   ]
  },
  {
   "cell_type": "code",
   "execution_count": 65,
   "metadata": {
    "collapsed": true
   },
   "outputs": [],
   "source": [
    "def carswell_upper(cells,k_to_avg,dim1,dim2,dim3):\n",
    "    #dim1 is the fastest cycling dimension, then dim2 then dim3\n",
    "    values = []\n",
    "    results = []\n",
    "    \n",
    "    #find max dimensions of all dims\n",
    "    d1_max = reduce(lambda x,y: x if x>y else y,map(lambda x: x[dim1] ,cells))\n",
    "    d2_max = reduce(lambda x,y: x if x>y else y,map(lambda x: x[dim2] ,cells))\n",
    "    d3_max = reduce(lambda x,y: x if x>y else y,map(lambda x: x[dim3] ,cells))\n",
    "   \n",
    "    for i in range(1,d3_max+1):\n",
    "        for j in range(1,d2_max+1):\n",
    "            for k in range(1,d1_max+1):\n",
    "                #find cells that meet the current step\n",
    "                values.append(filter(lambda cell: cell[dim3]== i and cell[dim2]==j and cell[dim1]==k,cells)[0])\n",
    "        \n",
    "        #calculate arithmetic mean of values collected at end of dim1 and dim2 cycles\n",
    "        harms = arithmetic(map(lambda x: x,values),k_to_avg)\n",
    "            \n",
    "        #clear the temporary array and save the harmonic means\n",
    "        values =[]\n",
    "        results.append(harms)\n",
    "    #calculate and return the harmonic mean of harmonic means\n",
    "    return(harmonic(results,k_to_avg))"
   ]
  },
  {
   "cell_type": "markdown",
   "metadata": {},
   "source": [
    "###Define Carswell and Parsons lower bounds function"
   ]
  },
  {
   "cell_type": "code",
   "execution_count": 66,
   "metadata": {
    "collapsed": true
   },
   "outputs": [],
   "source": [
    "def carswell_lower(cells,k_to_avg,dim1,dim2,dim3):\n",
    "    #dim1 is the fastest cycling dimension, then dim2 then dim3\n",
    "    values = []\n",
    "    results = []\n",
    "    \n",
    "    #find max dimensions of all dims\n",
    "    d1_max = reduce(lambda x,y: x if x>y else y,map(lambda x: x[dim1] ,cells))\n",
    "    d2_max = reduce(lambda x,y: x if x>y else y,map(lambda x: x[dim2] ,cells))\n",
    "    d3_max = reduce(lambda x,y: x if x>y else y,map(lambda x: x[dim3] ,cells))\n",
    "   \n",
    "    for i in range(1,d3_max+1):\n",
    "        for j in range(1,d2_max+1):\n",
    "            for k in range(1,d1_max+1):\n",
    "                #find cells that meet the current step\n",
    "                values.append(filter(lambda cell: cell[dim3]== i and cell[dim2]==j and cell[dim1]==k,cells)[0])\n",
    "            \n",
    "            #calculate harmonic mean of values collected at end of cycle in dim1\n",
    "            harms = harmonic(map(lambda x: x,values),k_to_avg)\n",
    "            #clear the temporary array and save the harmonic means\n",
    "            values =[]\n",
    "            results.append(harms)\n",
    "    #calculate and return the arithmetic mean of the harmonic means\n",
    "    return(arithmetic(results,k_to_avg))"
   ]
  },
  {
   "cell_type": "markdown",
   "metadata": {},
   "source": [
    "###Calculate upper carswell and parsons bounds"
   ]
  },
  {
   "cell_type": "code",
   "execution_count": 67,
   "metadata": {
    "collapsed": false
   },
   "outputs": [
    {
     "name": "stdout",
     "output_type": "stream",
     "text": [
      "Cardwell upper x perm: 128.642205\n",
      "Cardwell upper y perm: 125.917253\n",
      "Cardwell upper z perm: 2.838820\n"
     ]
    }
   ],
   "source": [
    "print 'Cardwell upper x perm: %f' %(carswell_upper(cells,'x_perm','y','z','x'))\n",
    "print 'Cardwell upper y perm: %f' %(carswell_upper(cells,'y_perm','x','z','y'))\n",
    "print 'Cardwell upper z perm: %f' %(carswell_upper(cells,'z_perm','x','y','z'))"
   ]
  },
  {
   "cell_type": "markdown",
   "metadata": {},
   "source": [
    "###Calculate lower carswell and parsons bounds"
   ]
  },
  {
   "cell_type": "code",
   "execution_count": 68,
   "metadata": {
    "collapsed": false
   },
   "outputs": [
    {
     "name": "stdout",
     "output_type": "stream",
     "text": [
      "Cardwell lower x perm: 119.045515\n",
      "Cardwell lower y perm: 120.164956\n",
      "Cardwell lower x perm: 2.797921\n"
     ]
    }
   ],
   "source": [
    "print 'Cardwell lower x perm: %f' % (carswell_lower(cells,'x_perm','x','y','z'))\n",
    "print 'Cardwell lower y perm: %f' %(carswell_lower(cells,'y_perm','y','x','z'))\n",
    "print 'Cardwell lower x perm: %f' %(carswell_lower(cells,'z_perm','z','x','y'))"
   ]
  },
  {
   "cell_type": "markdown",
   "metadata": {},
   "source": [
    "###Calculate cardwell and parsons estimates"
   ]
  },
  {
   "cell_type": "code",
   "execution_count": 69,
   "metadata": {
    "collapsed": false
   },
   "outputs": [
    {
     "name": "stdout",
     "output_type": "stream",
     "text": [
      "x perm estimate: 123.750869\n",
      "y perm estimate: 123.007484\n",
      "z perm estimate: 2.818296\n"
     ]
    }
   ],
   "source": [
    "print 'x perm estimate: %f'%(math.sqrt(carswell_upper(cells,'x_perm','y','z','x')*carswell_lower(cells,'x_perm','x','y','z')))\n",
    "print 'y perm estimate: %f' %(math.sqrt(carswell_upper(cells,'y_perm','x','z','y')*carswell_lower(cells,'y_perm','y','x','z')))\n",
    "print 'z perm estimate: %f' %(math.sqrt(carswell_upper(cells,'z_perm','x','y','z')*carswell_lower(cells,'z_perm','z','x','y')))"
   ]
  },
  {
   "cell_type": "markdown",
   "metadata": {},
   "source": [
    "###Define Weiner upper bound (Kx, Ky, Kz) as Arithmetic mean"
   ]
  },
  {
   "cell_type": "code",
   "execution_count": 70,
   "metadata": {
    "collapsed": false
   },
   "outputs": [
    {
     "name": "stdout",
     "output_type": "stream",
     "text": [
      "Weiner upper bound x perm: 141.133333\n",
      "Weiner upper bound y perm: 141.133333\n",
      "Weiner upper bound z perm 4.781667\n"
     ]
    }
   ],
   "source": [
    "print 'Weiner upper bound x perm: %f' %(arithmetic(cells,'x_perm'))\n",
    "print 'Weiner upper bound y perm: %f' %(arithmetic(cells,'y_perm'))\n",
    "print 'Weiner upper bound z perm %f' %(arithmetic(cells,'z_perm'))"
   ]
  },
  {
   "cell_type": "markdown",
   "metadata": {},
   "source": [
    "###Define Weinter lower bounds (Kx,Ky,Kz) as Harmonic means"
   ]
  },
  {
   "cell_type": "code",
   "execution_count": 71,
   "metadata": {
    "collapsed": false
   },
   "outputs": [
    {
     "name": "stdout",
     "output_type": "stream",
     "text": [
      "Weiner upper bound x perm: 92.012156\n",
      "Weiner upper bound y perm: 92.012156\n",
      "Weiner upper bound z perm 2.148953\n"
     ]
    }
   ],
   "source": [
    "print 'Weiner upper bound x perm: %f' %(harmonic(cells,'x_perm'))\n",
    "print 'Weiner upper bound y perm: %f' %(harmonic(cells,'y_perm'))\n",
    "print 'Weiner upper bound z perm %f' %(harmonic(cells,'z_perm'))"
   ]
  },
  {
   "cell_type": "markdown",
   "metadata": {
    "collapsed": true
   },
   "source": [
    "## Q2"
   ]
  },
  {
   "cell_type": "markdown",
   "metadata": {},
   "source": [
    "Replace all values of z=2 with 0"
   ]
  },
  {
   "cell_type": "code",
   "execution_count": 72,
   "metadata": {
    "collapsed": false
   },
   "outputs": [],
   "source": [
    "for cell in cells:\n",
    "    if (cell['z']==2):\n",
    "        #apprximate 0\n",
    "        cell['z_perm']=1e-10\n"
   ]
  },
  {
   "cell_type": "markdown",
   "metadata": {},
   "source": [
    "Calculate arithmetic average"
   ]
  },
  {
   "cell_type": "code",
   "execution_count": 73,
   "metadata": {
    "collapsed": false
   },
   "outputs": [
    {
     "name": "stdout",
     "output_type": "stream",
     "text": [
      "x perm: 141.133333\n",
      "y perm: 141.133333\n",
      "z perm: 4.033333\n"
     ]
    }
   ],
   "source": [
    "print 'x perm: %f' %(arithmetic(cells,'x_perm'))\n",
    "print'y perm: %f'%(arithmetic(cells,'y_perm'))\n",
    "print'z perm: %f'%(arithmetic(cells,'z_perm'))"
   ]
  },
  {
   "cell_type": "markdown",
   "metadata": {},
   "source": [
    "###Calculate harmonic averages for Kx, Ky and Kz"
   ]
  },
  {
   "cell_type": "code",
   "execution_count": 74,
   "metadata": {
    "collapsed": false,
    "scrolled": true
   },
   "outputs": [
    {
     "name": "stdout",
     "output_type": "stream",
     "text": [
      "x perm: 92.012156\n",
      "y perm: 92.012156\n",
      "z perm: 0.000000\n"
     ]
    }
   ],
   "source": [
    "print 'x perm: %f' %(harmonic(cells,'x_perm'))\n",
    "print'y perm: %f'%(harmonic(cells,'y_perm'))\n",
    "print'z perm: %f'%(harmonic(cells,'z_perm'))"
   ]
  },
  {
   "cell_type": "markdown",
   "metadata": {},
   "source": [
    "###Calculate geometric averages for Kx, Ky and Kz"
   ]
  },
  {
   "cell_type": "code",
   "execution_count": 75,
   "metadata": {
    "collapsed": false
   },
   "outputs": [
    {
     "name": "stdout",
     "output_type": "stream",
     "text": [
      "x perm: 112.010351\n",
      "y perm: 112.010351\n",
      "z perm: 0.001135\n"
     ]
    }
   ],
   "source": [
    "print 'x perm: %f' %(geometric(cells,'x_perm'))\n",
    "print'y perm: %f'%(geometric(cells,'y_perm'))\n",
    "print'z perm: %f'%(geometric(cells,'z_perm'))"
   ]
  },
  {
   "cell_type": "code",
   "execution_count": null,
   "metadata": {
    "collapsed": true
   },
   "outputs": [],
   "source": []
  },
  {
   "cell_type": "code",
   "execution_count": 76,
   "metadata": {
    "collapsed": false
   },
   "outputs": [
    {
     "name": "stdout",
     "output_type": "stream",
     "text": [
      "Cardwell upper x perm: 128.642205\n",
      "Cardwell upper y perm: 125.917253\n",
      "Cardwell upper z perm: 0.000000\n"
     ]
    }
   ],
   "source": [
    "print 'Cardwell upper x perm: %f' %(carswell_upper(cells,'x_perm','y','z','x'))\n",
    "print 'Cardwell upper y perm: %f' %(carswell_upper(cells,'y_perm','x','z','y'))\n",
    "print 'Cardwell upper z perm: %f' %(carswell_upper(cells,'z_perm','x','y','z'))"
   ]
  },
  {
   "cell_type": "markdown",
   "metadata": {},
   "source": [
    "###Calculate lower carswell and parsons bounds"
   ]
  },
  {
   "cell_type": "code",
   "execution_count": 77,
   "metadata": {
    "collapsed": false
   },
   "outputs": [
    {
     "name": "stdout",
     "output_type": "stream",
     "text": [
      "Cardwell lower x perm: 119.045515\n",
      "Cardwell lower y perm: 120.164956\n",
      "Cardwell lower x perm: 0.000000\n"
     ]
    }
   ],
   "source": [
    "print 'Cardwell lower x perm: %f' % (carswell_lower(cells,'x_perm','x','y','z'))\n",
    "print 'Cardwell lower y perm: %f' %(carswell_lower(cells,'y_perm','y','x','z'))\n",
    "print 'Cardwell lower x perm: %f' %(carswell_lower(cells,'z_perm','z','x','y'))"
   ]
  },
  {
   "cell_type": "markdown",
   "metadata": {},
   "source": [
    "###Calculate cardwell and parsons estimates"
   ]
  },
  {
   "cell_type": "code",
   "execution_count": 78,
   "metadata": {
    "collapsed": false
   },
   "outputs": [
    {
     "name": "stdout",
     "output_type": "stream",
     "text": [
      "x perm estimate: 123.750869\n",
      "y perm estimate: 123.007484\n",
      "z perm estimate: 0.000000\n"
     ]
    }
   ],
   "source": [
    "print 'x perm estimate: %f'%(math.sqrt(carswell_upper(cells,'x_perm','y','z','x')*carswell_lower(cells,'x_perm','x','y','z')))\n",
    "print 'y perm estimate: %f' %(math.sqrt(carswell_upper(cells,'y_perm','x','z','y')*carswell_lower(cells,'y_perm','y','x','z')))\n",
    "print 'z perm estimate: %f' %(math.sqrt(carswell_upper(cells,'z_perm','x','y','z')*carswell_lower(cells,'z_perm','z','x','y')))"
   ]
  },
  {
   "cell_type": "markdown",
   "metadata": {},
   "source": [
    "###Define Weiner upper bound (Kx, Ky, Kz) as Arithmetic mean"
   ]
  },
  {
   "cell_type": "code",
   "execution_count": 79,
   "metadata": {
    "collapsed": false
   },
   "outputs": [
    {
     "name": "stdout",
     "output_type": "stream",
     "text": [
      "Weiner upper bound x perm: 141.133333\n",
      "Weiner upper bound y perm: 141.133333\n",
      "Weiner upper bound z perm 4.033333\n"
     ]
    }
   ],
   "source": [
    "print 'Weiner upper bound x perm: %f' %(arithmetic(cells,'x_perm'))\n",
    "print 'Weiner upper bound y perm: %f' %(arithmetic(cells,'y_perm'))\n",
    "print 'Weiner upper bound z perm %f' %(arithmetic(cells,'z_perm'))"
   ]
  },
  {
   "cell_type": "markdown",
   "metadata": {},
   "source": [
    "###Define Weinter lower bounds (Kx,Ky,Kz) as Harmonic means"
   ]
  },
  {
   "cell_type": "code",
   "execution_count": 80,
   "metadata": {
    "collapsed": false
   },
   "outputs": [
    {
     "name": "stdout",
     "output_type": "stream",
     "text": [
      "Weiner upper bound x perm: 92.012156\n",
      "Weiner upper bound y perm: 92.012156\n",
      "Weiner upper bound z perm 0.000000\n"
     ]
    }
   ],
   "source": [
    "print 'Weiner upper bound x perm: %f' %(harmonic(cells,'x_perm'))\n",
    "print 'Weiner upper bound y perm: %f' %(harmonic(cells,'y_perm'))\n",
    "print 'Weiner upper bound z perm %f' %(harmonic(cells,'z_perm'))"
   ]
  }
 ],
 "metadata": {
  "anaconda-cloud": {},
  "kernelspec": {
   "display_name": "Python [Root]",
   "language": "python",
   "name": "Python [Root]"
  },
  "language_info": {
   "codemirror_mode": {
    "name": "ipython",
    "version": 2
   },
   "file_extension": ".py",
   "mimetype": "text/x-python",
   "name": "python",
   "nbconvert_exporter": "python",
   "pygments_lexer": "ipython2",
   "version": "2.7.12"
  }
 },
 "nbformat": 4,
 "nbformat_minor": 0
}
