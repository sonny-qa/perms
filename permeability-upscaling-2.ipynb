{
 "cells": [
  {
   "cell_type": "markdown",
   "metadata": {
    "nbpresent": {
     "id": "495be209-30be-46a9-90e8-20396417dde7"
    }
   },
   "source": [
    "## Q1"
   ]
  },
  {
   "cell_type": "markdown",
   "metadata": {
    "nbpresent": {
     "id": "aa4229b7-213b-41cd-b6b4-2de51785731e"
    }
   },
   "source": [
    "### First, Load input data in form(x,y,z,x/y_perm,z_perm)"
   ]
  },
  {
   "cell_type": "code",
   "execution_count": 6,
   "metadata": {
    "collapsed": false,
    "nbpresent": {
     "id": "97f22bea-689f-4a0b-9da9-f1371b09a260"
    }
   },
   "outputs": [],
   "source": [
    "import xlrd\n",
    "import math\n",
    "\n",
    "x_perm = []\n",
    "y_perm = []\n",
    "z_perm = []\n",
    "\n",
    "#load data for all cells\n",
    "book = xlrd.open_workbook('data2.xlsx')\n",
    "sheet = book.sheet_by_name('Sheet1')\n",
    "data =[[sheet.cell_value(r,c) for c in range(2)] for r in range(60)]\n",
    "\n",
    "for i in range(len(data)):\n",
    "    y_perm.append(data[i][0])\n",
    "    x_perm.append(data[i][0])\n",
    "    z_perm.append(data[i][1])"
   ]
  },
  {
   "cell_type": "markdown",
   "metadata": {
    "nbpresent": {
     "id": "6c890a38-6a7e-4d3e-8a07-309c12476b27"
    }
   },
   "source": [
    "### Then create cells list - which consists of a dictionary for each cell, {x,y,z,x_perm,y_perm, z_perm}"
   ]
  },
  {
   "cell_type": "code",
   "execution_count": 7,
   "metadata": {
    "collapsed": true,
    "nbpresent": {
     "id": "80dd339a-7198-4817-84c6-4c618df99976"
    }
   },
   "outputs": [],
   "source": [
    "cells=[]\n",
    "\n",
    "#create cell dictionaries\n",
    "for z in range(1,4): \n",
    "    for y in range(1,5):\n",
    "        for x in range(1,6):\n",
    "            mydict = {}\n",
    "            mydict['y']=y\n",
    "            mydict['x']=x\n",
    "            mydict['z']=z\n",
    "            cells.append(mydict) \n",
    "            \n",
    "#populate dictionaries with data\n",
    "\n",
    "for i in range(len(cells)):\n",
    "\n",
    "    cells[i]['y_perm']=y_perm[i]\n",
    "    cells[i]['x_perm']=x_perm[i]\n",
    "    cells[i]['z_perm']=z_perm[i]"
   ]
  },
  {
   "cell_type": "markdown",
   "metadata": {},
   "source": [
    "### Example of the cells structure"
   ]
  },
  {
   "cell_type": "code",
   "execution_count": 8,
   "metadata": {
    "collapsed": false
   },
   "outputs": [
    {
     "name": "stdout",
     "output_type": "stream",
     "text": [
      "[{'z_perm': 5.0, 'y_perm': 50.0, 'y': 1, 'x': 1, 'z': 1, 'x_perm': 50.0}, {'z_perm': 6.0, 'y_perm': 60.0, 'y': 1, 'x': 2, 'z': 1, 'x_perm': 60.0}, {'z_perm': 7.0, 'y_perm': 70.0, 'y': 1, 'x': 3, 'z': 1, 'x_perm': 70.0}, {'z_perm': 8.0, 'y_perm': 80.0, 'y': 1, 'x': 4, 'z': 1, 'x_perm': 80.0}, {'z_perm': 10.0, 'y_perm': 100.0, 'y': 1, 'x': 5, 'z': 1, 'x_perm': 100.0}, {'z_perm': 5.5, 'y_perm': 55.0, 'y': 2, 'x': 1, 'z': 1, 'x_perm': 55.0}, {'z_perm': 6.5, 'y_perm': 65.0, 'y': 2, 'x': 2, 'z': 1, 'x_perm': 65.0}, {'z_perm': 4.5, 'y_perm': 45.0, 'y': 2, 'x': 3, 'z': 1, 'x_perm': 45.0}, {'z_perm': 3.5, 'y_perm': 35.0, 'y': 2, 'x': 4, 'z': 1, 'x_perm': 35.0}, {'z_perm': 15.0, 'y_perm': 150.0, 'y': 2, 'x': 5, 'z': 1, 'x_perm': 150.0}]\n"
     ]
    }
   ],
   "source": [
    "print(cells[:10])"
   ]
  },
  {
   "cell_type": "markdown",
   "metadata": {
    "nbpresent": {
     "id": "fb58c163-dd10-4153-9aa1-411fd8e6879b"
    }
   },
   "source": [
    "### Create method for airthmetic average of a list of cells or a list of values"
   ]
  },
  {
   "cell_type": "code",
   "execution_count": 9,
   "metadata": {
    "collapsed": true,
    "nbpresent": {
     "id": "93b74854-6008-4b80-bcd5-4463322df3eb"
    }
   },
   "outputs": [],
   "source": [
    "def arithmetic(cells,k_to_avg):\n",
    "    #it should take a list of cells or list of numbers and find the arithmetic average\n",
    "    length = len(cells)\n",
    "    if (type(cells[0])==dict):\n",
    "        a = reduce(lambda x,y: x+y,(map(lambda x: x[k_to_avg] ,cells)))\n",
    "    else:\n",
    "        a = reduce(lambda x,y: x+y, map(lambda item: item ,cells))\n",
    "        \n",
    "    return(a/length)"
   ]
  },
  {
   "cell_type": "markdown",
   "metadata": {
    "nbpresent": {
     "id": "0d5ccc5b-821d-4a7e-948c-e2122625a3fd"
    }
   },
   "source": [
    "### Create method for harmonic average of a list of cells or a list of values"
   ]
  },
  {
   "cell_type": "code",
   "execution_count": 10,
   "metadata": {
    "collapsed": true,
    "nbpresent": {
     "id": "cfebb330-9965-485c-8837-268876c4b2d2"
    }
   },
   "outputs": [],
   "source": [
    "def harmonic(cells,k_to_avg):\n",
    "    #it should take a list of cells or list of values and find the harmonic average\n",
    "    # used for flow perpendicular to layers\n",
    "    length = len(cells)\n",
    "    \n",
    "    if (type(cells[0])==dict):\n",
    "        a = reduce(lambda x,y: x+y, map(lambda item: 1/(item[k_to_avg]) ,cells))\n",
    "    else:\n",
    "        a = reduce(lambda x,y: x+y, map(lambda item: 1/(item) ,cells))\n",
    "    \n",
    "    return(length/a)"
   ]
  },
  {
   "cell_type": "markdown",
   "metadata": {
    "nbpresent": {
     "id": "c2044eb2-77ec-47db-a0e4-3bd4e0716a7d"
    }
   },
   "source": [
    "### Create method for geometric average of a list of cells or a list of values"
   ]
  },
  {
   "cell_type": "code",
   "execution_count": 11,
   "metadata": {
    "collapsed": true,
    "nbpresent": {
     "id": "bf984a8e-0411-4c3c-99ef-7ce6092623b4"
    }
   },
   "outputs": [],
   "source": [
    "def geometric(cells,k_to_avg):\n",
    "    #it should take a list of cells and take the geometric average\n",
    "    # used for flow paralell to layers\n",
    "    length = len(cells)\n",
    "    if(type(cells[0])==dict):\n",
    "        a = reduce(lambda x,y: x*y,(map(lambda x: x[k_to_avg] ,cells)))\n",
    "    else:\n",
    "        a = reduce(lambda x,y: x*y,(map(lambda x: x ,cells)))\n",
    "    return(a**(1.0/length))"
   ]
  },
  {
   "cell_type": "markdown",
   "metadata": {
    "nbpresent": {
     "id": "73a06f4f-45b6-4b34-ba59-e7bc7e119801"
    }
   },
   "source": [
    "### Calculate arithmetic averages for Kx, Ky and Kz"
   ]
  },
  {
   "cell_type": "code",
   "execution_count": 12,
   "metadata": {
    "collapsed": false,
    "nbpresent": {
     "id": "e59bb352-ce3f-4e2b-a689-82ee8cbbef57"
    }
   },
   "outputs": [
    {
     "name": "stdout",
     "output_type": "stream",
     "text": [
      "x perm: 141.133333\n",
      "y perm: 141.133333\n",
      "z perm: 4.781667\n"
     ]
    }
   ],
   "source": [
    "print 'x perm: %f' %(arithmetic(cells,'x_perm'))\n",
    "print'y perm: %f'%(arithmetic(cells,'y_perm'))\n",
    "print'z perm: %f'%(arithmetic(cells,'z_perm'))"
   ]
  },
  {
   "cell_type": "markdown",
   "metadata": {
    "nbpresent": {
     "id": "0f8358b9-d864-406f-8ad6-a03cf431712a"
    }
   },
   "source": [
    "### Calculate harmonic averages for Kx, Ky and Kz"
   ]
  },
  {
   "cell_type": "code",
   "execution_count": 13,
   "metadata": {
    "collapsed": false,
    "nbpresent": {
     "id": "8984a030-99f6-4c89-9c48-63b7eb480b1a"
    },
    "scrolled": true
   },
   "outputs": [
    {
     "name": "stdout",
     "output_type": "stream",
     "text": [
      "x perm: 92.012156\n",
      "y perm: 92.012156\n",
      "z perm: 2.148953\n"
     ]
    }
   ],
   "source": [
    "print 'x perm: %f' %(harmonic(cells,'x_perm'))\n",
    "print'y perm: %f'%(harmonic(cells,'y_perm'))\n",
    "print'z perm: %f'%(harmonic(cells,'z_perm'))"
   ]
  },
  {
   "cell_type": "markdown",
   "metadata": {
    "nbpresent": {
     "id": "b7b66d11-8b7a-47d0-8ddb-a446d4b1cf9b"
    }
   },
   "source": [
    "### Calculate geometric averages for Kx, Ky and Kz"
   ]
  },
  {
   "cell_type": "code",
   "execution_count": 14,
   "metadata": {
    "collapsed": false,
    "nbpresent": {
     "id": "e371f173-f224-43dc-940e-4bd74f68eaba"
    }
   },
   "outputs": [
    {
     "name": "stdout",
     "output_type": "stream",
     "text": [
      "x perm: 112.010351\n",
      "y perm: 112.010351\n",
      "z perm: 3.041898\n"
     ]
    }
   ],
   "source": [
    "print 'x perm: %f' %(geometric(cells,'x_perm'))\n",
    "print'y perm: %f'%(geometric(cells,'y_perm'))\n",
    "print'z perm: %f'%(geometric(cells,'z_perm'))"
   ]
  },
  {
   "cell_type": "markdown",
   "metadata": {
    "nbpresent": {
     "id": "c63a334c-21bc-451f-9e78-7e3acdbd2c3c"
    }
   },
   "source": [
    "### Define the Carswell and Parsons Upper bound function\n",
    "Calculating the upper bound requires the harmonic meam of the arithmetic means of the local permeabilities calculated over each slice of cells perpendicular to the given flow direction. \n",
    "For this, we use three loops to slice over the volume in different directions, depending on the flow direction"
   ]
  },
  {
   "cell_type": "code",
   "execution_count": 15,
   "metadata": {
    "collapsed": true,
    "nbpresent": {
     "id": "a95f17e4-7070-4465-9b12-125749172edf"
    }
   },
   "outputs": [],
   "source": [
    "def carswell_upper(cells,k_to_avg,dim1,dim2,dim3):\n",
    "    #dim1 is the fastest cycling dimension, then dim2 then dim3\n",
    "    values = []\n",
    "    results = []\n",
    "    \n",
    "    #find max dimensions of all dimensions supplied\n",
    "    d1_max = reduce(lambda x,y: x if x>y else y,map(lambda x: x[dim1] ,cells))\n",
    "    d2_max = reduce(lambda x,y: x if x>y else y,map(lambda x: x[dim2] ,cells))\n",
    "    d3_max = reduce(lambda x,y: x if x>y else y,map(lambda x: x[dim3] ,cells))\n",
    "   \n",
    "    for i in range(1,d3_max+1):\n",
    "        for j in range(1,d2_max+1):\n",
    "            for k in range(1,d1_max+1):\n",
    "                #find cells that meet the current step\n",
    "                values.append(filter(lambda cell: cell[dim3]== i and cell[dim2]==j and cell[dim1]==k,cells)[0])\n",
    "        \n",
    "        #calculate arithmetic mean of values collected at end of dim1 and dim2 cycles\n",
    "        harms = arithmetic(map(lambda x: x,values),k_to_avg)\n",
    "            \n",
    "        #clear the temporary array and save the harmonic means\n",
    "        values =[]\n",
    "        results.append(harms)\n",
    "    #calculate and return the harmonic mean of harmonic means\n",
    "    return(harmonic(results,k_to_avg))"
   ]
  },
  {
   "cell_type": "markdown",
   "metadata": {
    "nbpresent": {
     "id": "7df4742b-9d80-4361-ba95-5c38eb543cd3"
    }
   },
   "source": [
    "### Define Carswell and Parsons lower bounds function\n",
    "Calculating the lower bounds requires the arithmetic mean of the harmonic means of the local permeabilites calculated on each cell slice paralell to the given flow direction. In this case, we calculate the harmonic mean after looping over two dimensions as there are two dimensions which are paralell to a given flow direction"
   ]
  },
  {
   "cell_type": "code",
   "execution_count": 16,
   "metadata": {
    "collapsed": true,
    "nbpresent": {
     "id": "d2e65a1f-2c35-44f0-adf0-f738a64dafed"
    }
   },
   "outputs": [],
   "source": [
    "def carswell_lower(cells,k_to_avg,dim1,dim2,dim3):\n",
    "    #dim1 is the fastest cycling dimension, then dim2 then dim3\n",
    "    values = []\n",
    "    results = []\n",
    "    \n",
    "    #find max dimensions of all dims\n",
    "    d1_max = reduce(lambda x,y: x if x>y else y,map(lambda x: x[dim1] ,cells))\n",
    "    d2_max = reduce(lambda x,y: x if x>y else y,map(lambda x: x[dim2] ,cells))\n",
    "    d3_max = reduce(lambda x,y: x if x>y else y,map(lambda x: x[dim3] ,cells))\n",
    "   \n",
    "    for i in range(1,d3_max+1):\n",
    "        for j in range(1,d2_max+1):\n",
    "            for k in range(1,d1_max+1):\n",
    "                #find cells that meet the current step\n",
    "                values.append(filter(lambda cell: cell[dim3]== i and cell[dim2]==j and cell[dim1]==k,cells)[0])\n",
    "            \n",
    "            #calculate harmonic mean of values collected at end of cycle in dim1\n",
    "            harms = harmonic(map(lambda x: x,values),k_to_avg)\n",
    "            #clear the temporary array and save the harmonic means\n",
    "            values =[]\n",
    "            results.append(harms)\n",
    "    #calculate and return the arithmetic mean of the harmonic means\n",
    "    return(arithmetic(results,k_to_avg))"
   ]
  },
  {
   "cell_type": "markdown",
   "metadata": {
    "nbpresent": {
     "id": "3c30ae07-4c33-4f37-bc44-2f6246e689fc"
    }
   },
   "source": [
    "### Calculate upper carswell and parsons bounds"
   ]
  },
  {
   "cell_type": "code",
   "execution_count": 17,
   "metadata": {
    "collapsed": false,
    "nbpresent": {
     "id": "c4e701e5-7ef8-4f41-a692-8df45b410d17"
    }
   },
   "outputs": [
    {
     "name": "stdout",
     "output_type": "stream",
     "text": [
      "Cardwell upper x perm: 128.642205\n",
      "Cardwell upper y perm: 125.917253\n",
      "Cardwell upper z perm: 2.838820\n"
     ]
    }
   ],
   "source": [
    "print 'Cardwell upper x perm: %f' %(carswell_upper(cells,'x_perm','y','z','x'))\n",
    "print 'Cardwell upper y perm: %f' %(carswell_upper(cells,'y_perm','x','z','y'))\n",
    "print 'Cardwell upper z perm: %f' %(carswell_upper(cells,'z_perm','x','y','z'))"
   ]
  },
  {
   "cell_type": "markdown",
   "metadata": {
    "nbpresent": {
     "id": "fa1e3631-b89f-485e-bf6f-716592f79091"
    }
   },
   "source": [
    "### Calculate lower carswell and parsons bounds"
   ]
  },
  {
   "cell_type": "code",
   "execution_count": 18,
   "metadata": {
    "collapsed": false,
    "nbpresent": {
     "id": "0039d372-293d-4a80-8224-c1bba83ee7a6"
    }
   },
   "outputs": [
    {
     "name": "stdout",
     "output_type": "stream",
     "text": [
      "Cardwell lower x perm: 119.045515\n",
      "Cardwell lower y perm: 120.164956\n",
      "Cardwell lower x perm: 2.797921\n"
     ]
    }
   ],
   "source": [
    "print 'Cardwell lower x perm: %f' % (carswell_lower(cells,'x_perm','x','y','z'))\n",
    "print 'Cardwell lower y perm: %f' %(carswell_lower(cells,'y_perm','y','x','z'))\n",
    "print 'Cardwell lower x perm: %f' %(carswell_lower(cells,'z_perm','z','x','y'))"
   ]
  },
  {
   "cell_type": "markdown",
   "metadata": {
    "nbpresent": {
     "id": "f6879d85-4345-4d4a-b4a4-99f22f030e5d"
    }
   },
   "source": [
    "### Calculate cardwell and parsons estimates"
   ]
  },
  {
   "cell_type": "code",
   "execution_count": 19,
   "metadata": {
    "collapsed": false,
    "nbpresent": {
     "id": "b1965846-3eb8-4907-868d-d0894b701689"
    }
   },
   "outputs": [
    {
     "name": "stdout",
     "output_type": "stream",
     "text": [
      "x perm estimate: 123.750869\n",
      "y perm estimate: 123.007484\n",
      "z perm estimate: 2.818296\n"
     ]
    }
   ],
   "source": [
    "print 'x perm estimate: %f'%(math.sqrt(carswell_upper(cells,'x_perm','y','z','x')*carswell_lower(cells,'x_perm','x','y','z')))\n",
    "print 'y perm estimate: %f' %(math.sqrt(carswell_upper(cells,'y_perm','x','z','y')*carswell_lower(cells,'y_perm','y','x','z')))\n",
    "print 'z perm estimate: %f' %(math.sqrt(carswell_upper(cells,'z_perm','x','y','z')*carswell_lower(cells,'z_perm','z','x','y')))"
   ]
  },
  {
   "cell_type": "markdown",
   "metadata": {
    "nbpresent": {
     "id": "e022a2f8-c80c-462a-8eee-4fec7f085c52"
    }
   },
   "source": [
    "### Define Weiner upper bound (Kx, Ky, Kz) as Arithmetic mean"
   ]
  },
  {
   "cell_type": "code",
   "execution_count": 20,
   "metadata": {
    "collapsed": false,
    "nbpresent": {
     "id": "9e67f988-cca3-4825-b205-e1627c1f20d7"
    }
   },
   "outputs": [
    {
     "name": "stdout",
     "output_type": "stream",
     "text": [
      "Weiner upper bound x perm: 141.133333\n",
      "Weiner upper bound y perm: 141.133333\n",
      "Weiner upper bound z perm 4.781667\n"
     ]
    }
   ],
   "source": [
    "print 'Weiner upper bound x perm: %f' %(arithmetic(cells,'x_perm'))\n",
    "print 'Weiner upper bound y perm: %f' %(arithmetic(cells,'y_perm'))\n",
    "print 'Weiner upper bound z perm %f' %(arithmetic(cells,'z_perm'))"
   ]
  },
  {
   "cell_type": "markdown",
   "metadata": {
    "nbpresent": {
     "id": "8ce69a28-5c49-4b34-907a-6c6b4366c2ca"
    }
   },
   "source": [
    "### Define Weinter lower bounds (Kx,Ky,Kz) as Harmonic means"
   ]
  },
  {
   "cell_type": "code",
   "execution_count": 21,
   "metadata": {
    "collapsed": false,
    "nbpresent": {
     "id": "b5e8a691-99a5-4cf6-93ff-cebd411a8d2e"
    }
   },
   "outputs": [
    {
     "name": "stdout",
     "output_type": "stream",
     "text": [
      "Weiner upper bound x perm: 92.012156\n",
      "Weiner upper bound y perm: 92.012156\n",
      "Weiner upper bound z perm 2.148953\n"
     ]
    }
   ],
   "source": [
    "print 'Weiner upper bound x perm: %f' %(harmonic(cells,'x_perm'))\n",
    "print 'Weiner upper bound y perm: %f' %(harmonic(cells,'y_perm'))\n",
    "print 'Weiner upper bound z perm %f' %(harmonic(cells,'z_perm'))"
   ]
  },
  {
   "cell_type": "markdown",
   "metadata": {
    "collapsed": true,
    "nbpresent": {
     "id": "bed1de6f-c355-432a-8b63-05d75e9479e9"
    }
   },
   "source": [
    "## Q2"
   ]
  },
  {
   "cell_type": "markdown",
   "metadata": {
    "nbpresent": {
     "id": "46710895-e4a3-4758-8843-0b45b3f50ee0"
    }
   },
   "source": [
    "### Replace all values of z=2 with 0"
   ]
  },
  {
   "cell_type": "code",
   "execution_count": 22,
   "metadata": {
    "collapsed": false,
    "nbpresent": {
     "id": "5a060da5-2c85-4c0f-9f46-6613ff62bd10"
    }
   },
   "outputs": [],
   "source": [
    "for cell in cells:\n",
    "    if (cell['z']==2):\n",
    "        #apprximate 0\n",
    "        cell['z_perm']=1e-10\n"
   ]
  },
  {
   "cell_type": "markdown",
   "metadata": {
    "nbpresent": {
     "id": "733f38d2-ebe5-4556-b01c-bee20cc88cd8"
    }
   },
   "source": [
    "### Calculate arithmetic average"
   ]
  },
  {
   "cell_type": "code",
   "execution_count": 23,
   "metadata": {
    "collapsed": false,
    "nbpresent": {
     "id": "57bc8f97-8583-418d-bf80-ad98a172354e"
    }
   },
   "outputs": [
    {
     "name": "stdout",
     "output_type": "stream",
     "text": [
      "x perm: 141.133333\n",
      "y perm: 141.133333\n",
      "z perm: 4.033333\n"
     ]
    }
   ],
   "source": [
    "print 'x perm: %f' %(arithmetic(cells,'x_perm'))\n",
    "print'y perm: %f'%(arithmetic(cells,'y_perm'))\n",
    "print'z perm: %f'%(arithmetic(cells,'z_perm'))"
   ]
  },
  {
   "cell_type": "markdown",
   "metadata": {
    "nbpresent": {
     "id": "648a89a3-4766-46f4-9590-3d6c35c44e1a"
    }
   },
   "source": [
    "### Calculate harmonic averages for Kx, Ky and Kz"
   ]
  },
  {
   "cell_type": "code",
   "execution_count": 24,
   "metadata": {
    "collapsed": false,
    "nbpresent": {
     "id": "c43faac4-0b46-4862-8053-4a521880f36f"
    },
    "scrolled": true
   },
   "outputs": [
    {
     "name": "stdout",
     "output_type": "stream",
     "text": [
      "x perm: 92.012156\n",
      "y perm: 92.012156\n",
      "z perm: 0.000000\n"
     ]
    }
   ],
   "source": [
    "print 'x perm: %f' %(harmonic(cells,'x_perm'))\n",
    "print'y perm: %f'%(harmonic(cells,'y_perm'))\n",
    "print'z perm: %f'%(harmonic(cells,'z_perm'))"
   ]
  },
  {
   "cell_type": "markdown",
   "metadata": {
    "nbpresent": {
     "id": "58553ddf-40eb-4c82-9046-78e2ca7a4896"
    }
   },
   "source": [
    "### Calculate geometric averages for Kx, Ky and Kz"
   ]
  },
  {
   "cell_type": "code",
   "execution_count": 25,
   "metadata": {
    "collapsed": false,
    "nbpresent": {
     "id": "f65b6144-ec85-4e73-9f24-6c45432ac807"
    }
   },
   "outputs": [
    {
     "name": "stdout",
     "output_type": "stream",
     "text": [
      "x perm: 112.010351\n",
      "y perm: 112.010351\n",
      "z perm: 0.001135\n"
     ]
    }
   ],
   "source": [
    "print 'x perm: %f' %(geometric(cells,'x_perm'))\n",
    "print'y perm: %f'%(geometric(cells,'y_perm'))\n",
    "print'z perm: %f'%(geometric(cells,'z_perm'))"
   ]
  },
  {
   "cell_type": "markdown",
   "metadata": {
    "nbpresent": {
     "id": "090ea928-5f12-43a0-843c-f835b96602de"
    }
   },
   "source": [
    "### Calculate cardwell and parsons upper bounds"
   ]
  },
  {
   "cell_type": "code",
   "execution_count": 26,
   "metadata": {
    "collapsed": false,
    "nbpresent": {
     "id": "ea9baca7-eba1-44c9-a335-d56277352202"
    }
   },
   "outputs": [
    {
     "name": "stdout",
     "output_type": "stream",
     "text": [
      "Cardwell upper x perm: 128.642205\n",
      "Cardwell upper y perm: 125.917253\n",
      "Cardwell upper z perm: 0.000000\n"
     ]
    }
   ],
   "source": [
    "print 'Cardwell upper x perm: %f' %(carswell_upper(cells,'x_perm','y','z','x'))\n",
    "print 'Cardwell upper y perm: %f' %(carswell_upper(cells,'y_perm','x','z','y'))\n",
    "print 'Cardwell upper z perm: %f' %(carswell_upper(cells,'z_perm','x','y','z'))"
   ]
  },
  {
   "cell_type": "markdown",
   "metadata": {
    "nbpresent": {
     "id": "ed5accbd-b044-4025-88da-b0f9aa7db51f"
    }
   },
   "source": [
    "### Calculate lower carswell and parsons bounds"
   ]
  },
  {
   "cell_type": "code",
   "execution_count": 27,
   "metadata": {
    "collapsed": false,
    "nbpresent": {
     "id": "a08b5c7e-3a7a-47ee-9711-0b42d2cf17da"
    }
   },
   "outputs": [
    {
     "name": "stdout",
     "output_type": "stream",
     "text": [
      "Cardwell lower x perm: 119.045515\n",
      "Cardwell lower y perm: 120.164956\n",
      "Cardwell lower x perm: 0.000000\n"
     ]
    }
   ],
   "source": [
    "print 'Cardwell lower x perm: %f' % (carswell_lower(cells,'x_perm','x','y','z'))\n",
    "print 'Cardwell lower y perm: %f' %(carswell_lower(cells,'y_perm','y','x','z'))\n",
    "print 'Cardwell lower x perm: %f' %(carswell_lower(cells,'z_perm','z','x','y'))"
   ]
  },
  {
   "cell_type": "markdown",
   "metadata": {
    "nbpresent": {
     "id": "f2dd3f82-ad1e-4268-bc9d-b37d698ab294"
    }
   },
   "source": [
    "### Calculate cardwell and parsons estimates"
   ]
  },
  {
   "cell_type": "code",
   "execution_count": 28,
   "metadata": {
    "collapsed": false,
    "nbpresent": {
     "id": "34e3f6b2-e0a7-41f1-a98b-75ac9421f123"
    }
   },
   "outputs": [
    {
     "name": "stdout",
     "output_type": "stream",
     "text": [
      "x perm estimate: 123.750869\n",
      "y perm estimate: 123.007484\n",
      "z perm estimate: 0.000000\n"
     ]
    }
   ],
   "source": [
    "print 'x perm estimate: %f'%(math.sqrt(carswell_upper(cells,'x_perm','y','z','x')*carswell_lower(cells,'x_perm','x','y','z')))\n",
    "print 'y perm estimate: %f' %(math.sqrt(carswell_upper(cells,'y_perm','x','z','y')*carswell_lower(cells,'y_perm','y','x','z')))\n",
    "print 'z perm estimate: %f' %(math.sqrt(carswell_upper(cells,'z_perm','x','y','z')*carswell_lower(cells,'z_perm','z','x','y')))"
   ]
  },
  {
   "cell_type": "markdown",
   "metadata": {
    "nbpresent": {
     "id": "34345430-4cee-4860-9f85-1bc0ab97e4a1"
    }
   },
   "source": [
    "### Define Weiner upper bound (Kx, Ky, Kz) as Arithmetic mean"
   ]
  },
  {
   "cell_type": "code",
   "execution_count": 29,
   "metadata": {
    "collapsed": false,
    "nbpresent": {
     "id": "18f8d960-c8ac-4a16-a3eb-5bd2364b7d73"
    }
   },
   "outputs": [
    {
     "name": "stdout",
     "output_type": "stream",
     "text": [
      "Weiner upper bound x perm: 141.133333\n",
      "Weiner upper bound y perm: 141.133333\n",
      "Weiner upper bound z perm 4.033333\n"
     ]
    }
   ],
   "source": [
    "print 'Weiner upper bound x perm: %f' %(arithmetic(cells,'x_perm'))\n",
    "print 'Weiner upper bound y perm: %f' %(arithmetic(cells,'y_perm'))\n",
    "print 'Weiner upper bound z perm %f' %(arithmetic(cells,'z_perm'))"
   ]
  },
  {
   "cell_type": "markdown",
   "metadata": {
    "nbpresent": {
     "id": "0110f201-e663-4dac-9a84-07f112479868"
    }
   },
   "source": [
    "### Define Weinter lower bounds (Kx,Ky,Kz) as Harmonic means"
   ]
  },
  {
   "cell_type": "code",
   "execution_count": 30,
   "metadata": {
    "collapsed": false,
    "nbpresent": {
     "id": "2b919ad3-e6c7-4ac6-99d8-7447884be16d"
    }
   },
   "outputs": [
    {
     "name": "stdout",
     "output_type": "stream",
     "text": [
      "Weiner upper bound x perm: 92.012156\n",
      "Weiner upper bound y perm: 92.012156\n",
      "Weiner upper bound z perm 0.000000\n"
     ]
    }
   ],
   "source": [
    "print 'Weiner upper bound x perm: %f' %(harmonic(cells,'x_perm'))\n",
    "print 'Weiner upper bound y perm: %f' %(harmonic(cells,'y_perm'))\n",
    "print 'Weiner upper bound z perm %f' %(harmonic(cells,'z_perm'))"
   ]
  }
 ],
 "metadata": {
  "anaconda-cloud": {},
  "kernelspec": {
   "display_name": "Python [Root]",
   "language": "python",
   "name": "Python [Root]"
  },
  "language_info": {
   "codemirror_mode": {
    "name": "ipython",
    "version": 2
   },
   "file_extension": ".py",
   "mimetype": "text/x-python",
   "name": "python",
   "nbconvert_exporter": "python",
   "pygments_lexer": "ipython2",
   "version": "2.7.12"
  },
  "nbpresent": {
   "slides": {
    "00016233-72fc-4bd5-84a1-fab78bf7e89f": {
     "id": "00016233-72fc-4bd5-84a1-fab78bf7e89f",
     "prev": "806e6055-132e-4e66-8582-df60625bb445",
     "regions": {
      "e41bd627-a77d-4505-995b-1b62ac24028f": {
       "attrs": {
        "height": 0.8,
        "width": 0.8,
        "x": 0.1,
        "y": 0.1
       },
       "content": {
        "cell": "7df4742b-9d80-4361-ba95-5c38eb543cd3",
        "part": "whole"
       },
       "id": "e41bd627-a77d-4505-995b-1b62ac24028f"
      }
     }
    },
    "006eb7fe-2a1c-42dc-95f3-c70495b7f7cf": {
     "id": "006eb7fe-2a1c-42dc-95f3-c70495b7f7cf",
     "prev": "ebd1629c-2c4c-4a7f-8d79-9ee7b3d6d866",
     "regions": {
      "da244560-d244-4048-b2c3-1392fc9dc51b": {
       "attrs": {
        "height": 0.8,
        "width": 0.8,
        "x": 0.1,
        "y": 0.1
       },
       "content": {
        "cell": "93b74854-6008-4b80-bcd5-4463322df3eb",
        "part": "whole"
       },
       "id": "da244560-d244-4048-b2c3-1392fc9dc51b"
      }
     }
    },
    "0ac62a8b-2156-4085-90a1-fbfe71350045": {
     "id": "0ac62a8b-2156-4085-90a1-fbfe71350045",
     "prev": "cf776834-9271-49a1-b9bb-7668ee6faca1",
     "regions": {
      "24a3ceaa-8978-4816-9ad4-da613d46630f": {
       "attrs": {
        "height": 0.8,
        "width": 0.8,
        "x": 0.1,
        "y": 0.1
       },
       "content": {
        "cell": "0039d372-293d-4a80-8224-c1bba83ee7a6",
        "part": "whole"
       },
       "id": "24a3ceaa-8978-4816-9ad4-da613d46630f"
      }
     }
    },
    "0ffee127-a36a-4861-bc92-d878c1aedc57": {
     "id": "0ffee127-a36a-4861-bc92-d878c1aedc57",
     "prev": "006eb7fe-2a1c-42dc-95f3-c70495b7f7cf",
     "regions": {
      "a58276c9-87bc-441c-888e-7c20671b5df8": {
       "attrs": {
        "height": 0.8,
        "width": 0.8,
        "x": 0.1,
        "y": 0.1
       },
       "content": {
        "cell": "0d5ccc5b-821d-4a7e-948c-e2122625a3fd",
        "part": "whole"
       },
       "id": "a58276c9-87bc-441c-888e-7c20671b5df8"
      }
     }
    },
    "11d8667f-c2ab-4b17-92cb-e5603ee9a115": {
     "id": "11d8667f-c2ab-4b17-92cb-e5603ee9a115",
     "prev": "d427d025-8f1c-4ec7-b53a-196f22ea0dc9",
     "regions": {
      "09a6a1ad-ffe6-4c05-a92a-d001f7e33d7a": {
       "attrs": {
        "height": 0.8,
        "width": 0.8,
        "x": 0.1,
        "y": 0.1
       },
       "content": {
        "cell": "b1965846-3eb8-4907-868d-d0894b701689",
        "part": "whole"
       },
       "id": "09a6a1ad-ffe6-4c05-a92a-d001f7e33d7a"
      }
     }
    },
    "1bd48341-66c2-4c88-a451-986c7289d72d": {
     "id": "1bd48341-66c2-4c88-a451-986c7289d72d",
     "prev": "b60e27ff-e892-418d-af3b-b3a717ef7f56",
     "regions": {
      "57550202-f1fb-45fa-b378-5c4cbe4194c4": {
       "attrs": {
        "height": 0.8,
        "width": 0.8,
        "x": 0.1,
        "y": 0.1
       },
       "content": {
        "cell": "733f38d2-ebe5-4556-b01c-bee20cc88cd8",
        "part": "whole"
       },
       "id": "57550202-f1fb-45fa-b378-5c4cbe4194c4"
      }
     }
    },
    "2681c9eb-7262-45de-80b4-f24d0dc9c5b8": {
     "id": "2681c9eb-7262-45de-80b4-f24d0dc9c5b8",
     "prev": "11d8667f-c2ab-4b17-92cb-e5603ee9a115",
     "regions": {
      "5e44bf24-ad55-4226-8a32-8e8254eb2b15": {
       "attrs": {
        "height": 0.8,
        "width": 0.8,
        "x": 0.1,
        "y": 0.1
       },
       "content": {
        "cell": "e022a2f8-c80c-462a-8eee-4fec7f085c52",
        "part": "whole"
       },
       "id": "5e44bf24-ad55-4226-8a32-8e8254eb2b15"
      }
     }
    },
    "26cfa060-769f-4d13-b150-9673c26d0d3c": {
     "id": "26cfa060-769f-4d13-b150-9673c26d0d3c",
     "prev": "e06ee676-fe06-4cf1-ab7f-3c6e9b6b9391",
     "regions": {
      "0b791730-f0f4-4da0-b956-dbb4d2c1222a": {
       "attrs": {
        "height": 0.8,
        "width": 0.8,
        "x": 0.1,
        "y": 0.1
       },
       "content": {
        "cell": "c63a334c-21bc-451f-9e78-7e3acdbd2c3c",
        "part": "whole"
       },
       "id": "0b791730-f0f4-4da0-b956-dbb4d2c1222a"
      }
     }
    },
    "36a69788-85ae-4ef3-b2b1-9e9fa6eaa781": {
     "id": "36a69788-85ae-4ef3-b2b1-9e9fa6eaa781",
     "prev": "9b16e043-2d8d-4218-aa6b-4ef19c3fd6af",
     "regions": {
      "78605bc8-ea99-46dc-bfac-1b321f7d6da8": {
       "attrs": {
        "height": 0.8,
        "width": 0.8,
        "x": 0.1,
        "y": 0.1
       },
       "content": {
        "cell": "0110f201-e663-4dac-9a84-07f112479868",
        "part": "whole"
       },
       "id": "78605bc8-ea99-46dc-bfac-1b321f7d6da8"
      }
     }
    },
    "3dde99f5-e421-4954-881f-5736e7fc006d": {
     "id": "3dde99f5-e421-4954-881f-5736e7fc006d",
     "prev": "fb306cc2-625c-4d05-a1bf-6a9272911d70",
     "regions": {
      "7aec8ac7-55f3-4a11-8aa3-114933366c86": {
       "attrs": {
        "height": 0.8,
        "width": 0.8,
        "x": 0.1,
        "y": 0.1
       },
       "content": {
        "cell": "ed5accbd-b044-4025-88da-b0f9aa7db51f",
        "part": "whole"
       },
       "id": "7aec8ac7-55f3-4a11-8aa3-114933366c86"
      }
     }
    },
    "4cd0ed68-6696-487a-8be9-ddafa36745d4": {
     "id": "4cd0ed68-6696-487a-8be9-ddafa36745d4",
     "prev": "8fa19be7-0251-4f7c-ba13-357d910097ae",
     "regions": {
      "8579f0bf-4b26-44fe-b758-0bdc784c42ed": {
       "attrs": {
        "height": 0.8,
        "width": 0.8,
        "x": 0.1,
        "y": 0.1
       },
       "content": {
        "cell": "c43faac4-0b46-4862-8053-4a521880f36f",
        "part": "whole"
       },
       "id": "8579f0bf-4b26-44fe-b758-0bdc784c42ed"
      }
     }
    },
    "53f01e79-22c6-4555-a3e7-aa63b547cc6d": {
     "id": "53f01e79-22c6-4555-a3e7-aa63b547cc6d",
     "prev": "70cfb83f-d061-45e1-b207-35e33086d504",
     "regions": {
      "6e068f5c-1fbb-45e7-959c-1983e70376d4": {
       "attrs": {
        "height": 0.8,
        "width": 0.8,
        "x": 0.1,
        "y": 0.1
       },
       "content": {
        "cell": "34e3f6b2-e0a7-41f1-a98b-75ac9421f123",
        "part": "whole"
       },
       "id": "6e068f5c-1fbb-45e7-959c-1983e70376d4"
      }
     }
    },
    "5423b0e8-6318-46fe-8e25-e741b9671462": {
     "id": "5423b0e8-6318-46fe-8e25-e741b9671462",
     "prev": "1bd48341-66c2-4c88-a451-986c7289d72d",
     "regions": {
      "309c9448-3c50-497b-af5e-eef73c7b5b2b": {
       "attrs": {
        "height": 0.8,
        "width": 0.8,
        "x": 0.1,
        "y": 0.1
       },
       "content": {
        "cell": "57bc8f97-8583-418d-bf80-ad98a172354e",
        "part": "whole"
       },
       "id": "309c9448-3c50-497b-af5e-eef73c7b5b2b"
      }
     }
    },
    "55d8d143-0409-43d1-a935-dd10d17a1849": {
     "id": "55d8d143-0409-43d1-a935-dd10d17a1849",
     "prev": "ae97a0b3-10d7-4cad-b8c1-b759465e4c5b",
     "regions": {
      "97f89978-44be-4ceb-9f05-d0aa72f5e603": {
       "attrs": {
        "height": 0.8,
        "width": 0.8,
        "x": 0.1,
        "y": 0.1
       },
       "content": {
        "cell": "8ce69a28-5c49-4b34-907a-6c6b4366c2ca",
        "part": "whole"
       },
       "id": "97f89978-44be-4ceb-9f05-d0aa72f5e603"
      }
     }
    },
    "57189c46-ff96-4278-b314-557f2d2ff8cb": {
     "id": "57189c46-ff96-4278-b314-557f2d2ff8cb",
     "prev": "36a69788-85ae-4ef3-b2b1-9e9fa6eaa781",
     "regions": {
      "9ccbab08-798e-482d-8c4c-7bd53ca97f97": {
       "attrs": {
        "height": 0.8,
        "width": 0.8,
        "x": 0.1,
        "y": 0.1
       },
       "content": {
        "cell": "2b919ad3-e6c7-4ac6-99d8-7447884be16d",
        "part": "whole"
       },
       "id": "9ccbab08-798e-482d-8c4c-7bd53ca97f97"
      }
     }
    },
    "59e6a496-f273-477f-9c55-375ea84922f8": {
     "id": "59e6a496-f273-477f-9c55-375ea84922f8",
     "prev": "ea8e9bcc-e7ac-41db-9fda-a68cdd913577",
     "regions": {
      "861072a9-05d7-4807-987f-8a3d36b9992e": {
       "attrs": {
        "height": 0.8,
        "width": 0.8,
        "x": 0.1,
        "y": 0.1
       },
       "content": {
        "cell": "b7b66d11-8b7a-47d0-8ddb-a446d4b1cf9b",
        "part": "whole"
       },
       "id": "861072a9-05d7-4807-987f-8a3d36b9992e"
      }
     }
    },
    "61628011-57db-438b-83ad-ef43aea8692b": {
     "id": "61628011-57db-438b-83ad-ef43aea8692b",
     "prev": "a11569d2-8d56-4276-9736-a47921eff6b8",
     "regions": {
      "556dff29-4522-45c0-a318-5d97dd3bf530": {
       "attrs": {
        "height": 0.8,
        "width": 0.8,
        "x": 0.1,
        "y": 0.1
       },
       "content": {
        "cell": "090ea928-5f12-43a0-843c-f835b96602de",
        "part": "whole"
       },
       "id": "556dff29-4522-45c0-a318-5d97dd3bf530"
      }
     }
    },
    "68e653df-eeae-4d19-b0b8-83204404eb2c": {
     "id": "68e653df-eeae-4d19-b0b8-83204404eb2c",
     "prev": "a58e26f1-cc75-43b5-a23e-d1fdcefe2331",
     "regions": {
      "87c603c6-ae4c-4956-81fe-7315b69e1fd7": {
       "attrs": {
        "height": 0.8,
        "width": 0.8,
        "x": 0.1,
        "y": 0.1
       },
       "content": {
        "cell": "73a06f4f-45b6-4b34-ba59-e7bc7e119801",
        "part": "whole"
       },
       "id": "87c603c6-ae4c-4956-81fe-7315b69e1fd7"
      }
     }
    },
    "70cfb83f-d061-45e1-b207-35e33086d504": {
     "id": "70cfb83f-d061-45e1-b207-35e33086d504",
     "prev": "b1cbc770-2131-4f3c-9b41-fcc1bd765e89",
     "regions": {
      "122878e6-4aa4-4350-a592-14ca309929fb": {
       "attrs": {
        "height": 0.8,
        "width": 0.8,
        "x": 0.1,
        "y": 0.1
       },
       "content": {
        "cell": "f2dd3f82-ad1e-4268-bc9d-b37d698ab294",
        "part": "whole"
       },
       "id": "122878e6-4aa4-4350-a592-14ca309929fb"
      }
     }
    },
    "70dc50e6-2d49-46ad-a591-8a9664e10590": {
     "id": "70dc50e6-2d49-46ad-a591-8a9664e10590",
     "prev": "55d8d143-0409-43d1-a935-dd10d17a1849",
     "regions": {
      "80c0534a-06ab-425b-b44d-7f918538f579": {
       "attrs": {
        "height": 0.8,
        "width": 0.8,
        "x": 0.1,
        "y": 0.1
       },
       "content": {
        "cell": "b5e8a691-99a5-4cf6-93ff-cebd411a8d2e",
        "part": "whole"
       },
       "id": "80c0534a-06ab-425b-b44d-7f918538f579"
      }
     }
    },
    "7e682b86-ca9f-4481-9e4c-da6e8d00c061": {
     "id": "7e682b86-ca9f-4481-9e4c-da6e8d00c061",
     "prev": null,
     "regions": {
      "94aa3718-2285-4d2c-a63d-47ddee916ee8": {
       "attrs": {
        "height": 0.8,
        "width": 0.8,
        "x": 0.1,
        "y": 0.1
       },
       "content": {
        "cell": "495be209-30be-46a9-90e8-20396417dde7",
        "part": "source"
       },
       "id": "94aa3718-2285-4d2c-a63d-47ddee916ee8"
      }
     }
    },
    "806e6055-132e-4e66-8582-df60625bb445": {
     "id": "806e6055-132e-4e66-8582-df60625bb445",
     "prev": "26cfa060-769f-4d13-b150-9673c26d0d3c",
     "regions": {
      "fbaf0584-e299-4ad1-b20f-95cd05fb7cc3": {
       "attrs": {
        "height": 0.8,
        "width": 0.8,
        "x": 0.1,
        "y": 0.1
       },
       "content": {
        "cell": "a95f17e4-7070-4465-9b12-125749172edf",
        "part": "whole"
       },
       "id": "fbaf0584-e299-4ad1-b20f-95cd05fb7cc3"
      }
     }
    },
    "83de7c9e-5e6b-4184-b2ef-ee1d01a7209a": {
     "id": "83de7c9e-5e6b-4184-b2ef-ee1d01a7209a",
     "prev": "53f01e79-22c6-4555-a3e7-aa63b547cc6d",
     "regions": {
      "b6e17390-a14f-4ef8-92f9-e91dea437fa7": {
       "attrs": {
        "height": 0.8,
        "width": 0.8,
        "x": 0.1,
        "y": 0.1
       },
       "content": {
        "cell": "34345430-4cee-4860-9f85-1bc0ab97e4a1",
        "part": "whole"
       },
       "id": "b6e17390-a14f-4ef8-92f9-e91dea437fa7"
      }
     }
    },
    "87457c81-0c7f-4614-8076-5d9e6063e924": {
     "id": "87457c81-0c7f-4614-8076-5d9e6063e924",
     "prev": "c26dd602-cf3c-4070-a51c-d12ddd8f8716",
     "regions": {
      "c93047e7-5cf1-4c0e-abfa-ebd9931ca4b5": {
       "attrs": {
        "height": 0.8,
        "width": 0.8,
        "x": 0.1,
        "y": 0.1
       },
       "content": {
        "cell": "3c30ae07-4c33-4f37-bc44-2f6246e689fc",
        "part": "whole"
       },
       "id": "c93047e7-5cf1-4c0e-abfa-ebd9931ca4b5"
      }
     }
    },
    "8fa19be7-0251-4f7c-ba13-357d910097ae": {
     "id": "8fa19be7-0251-4f7c-ba13-357d910097ae",
     "prev": "5423b0e8-6318-46fe-8e25-e741b9671462",
     "regions": {
      "a24d8341-6d88-4270-aa65-cab49f87fc36": {
       "attrs": {
        "height": 0.8,
        "width": 0.8,
        "x": 0.1,
        "y": 0.1
       },
       "content": {
        "cell": "648a89a3-4766-46f4-9590-3d6c35c44e1a",
        "part": "whole"
       },
       "id": "a24d8341-6d88-4270-aa65-cab49f87fc36"
      }
     }
    },
    "9b16e043-2d8d-4218-aa6b-4ef19c3fd6af": {
     "id": "9b16e043-2d8d-4218-aa6b-4ef19c3fd6af",
     "prev": "83de7c9e-5e6b-4184-b2ef-ee1d01a7209a",
     "regions": {
      "e4b373fb-5235-4ea5-99be-73d23fbc2b51": {
       "attrs": {
        "height": 0.8,
        "width": 0.8,
        "x": 0.1,
        "y": 0.1
       },
       "content": {
        "cell": "18f8d960-c8ac-4a16-a3eb-5bd2364b7d73",
        "part": "whole"
       },
       "id": "e4b373fb-5235-4ea5-99be-73d23fbc2b51"
      }
     }
    },
    "a11569d2-8d56-4276-9736-a47921eff6b8": {
     "id": "a11569d2-8d56-4276-9736-a47921eff6b8",
     "prev": "eb5aff10-10db-4b0a-8545-9addf52b6df3",
     "regions": {
      "cce46da1-0961-48b4-996f-957c1b9d82b1": {
       "attrs": {
        "height": 0.8,
        "width": 0.8,
        "x": 0.1,
        "y": 0.1
       },
       "content": {
        "cell": "f65b6144-ec85-4e73-9f24-6c45432ac807",
        "part": "whole"
       },
       "id": "cce46da1-0961-48b4-996f-957c1b9d82b1"
      }
     }
    },
    "a4745f2a-e6f7-4fc0-9af1-3c05a58ec797": {
     "id": "a4745f2a-e6f7-4fc0-9af1-3c05a58ec797",
     "prev": "c4fbbdca-2110-40a4-9807-57aa66e315f3",
     "regions": {
      "3ffa6e1d-9b15-4e91-927d-ca1ad12bea3a": {
       "attrs": {
        "height": 0.8,
        "width": 0.8,
        "x": 0.1,
        "y": 0.1
       },
       "content": {
        "cell": "46710895-e4a3-4758-8843-0b45b3f50ee0",
        "part": "whole"
       },
       "id": "3ffa6e1d-9b15-4e91-927d-ca1ad12bea3a"
      }
     }
    },
    "a58e26f1-cc75-43b5-a23e-d1fdcefe2331": {
     "id": "a58e26f1-cc75-43b5-a23e-d1fdcefe2331",
     "prev": "cca6fe34-3d26-410f-8810-e049137f4909",
     "regions": {
      "6a636a62-9703-45c9-a106-347d945f0f7a": {
       "attrs": {
        "height": 0.8,
        "width": 0.8,
        "x": 0.1,
        "y": 0.1
       },
       "content": {
        "cell": "bf984a8e-0411-4c3c-99ef-7ce6092623b4",
        "part": "whole"
       },
       "id": "6a636a62-9703-45c9-a106-347d945f0f7a"
      }
     }
    },
    "ae7ac090-ad4b-4679-8ef8-3dc8307c663d": {
     "id": "ae7ac090-ad4b-4679-8ef8-3dc8307c663d",
     "prev": "7e682b86-ca9f-4481-9e4c-da6e8d00c061",
     "regions": {
      "eb846d5b-cb44-4eb3-8e32-d9ccf904a9d0": {
       "attrs": {
        "height": 0.8,
        "width": 0.8,
        "x": 0.1,
        "y": 0.1
       },
       "content": {
        "cell": "aa4229b7-213b-41cd-b6b4-2de51785731e",
        "part": "whole"
       },
       "id": "eb846d5b-cb44-4eb3-8e32-d9ccf904a9d0"
      }
     }
    },
    "ae97a0b3-10d7-4cad-b8c1-b759465e4c5b": {
     "id": "ae97a0b3-10d7-4cad-b8c1-b759465e4c5b",
     "prev": "2681c9eb-7262-45de-80b4-f24d0dc9c5b8",
     "regions": {
      "ced98258-e448-4347-986e-f3526acd75b6": {
       "attrs": {
        "height": 0.8,
        "width": 0.8,
        "x": 0.1,
        "y": 0.1
       },
       "content": {
        "cell": "9e67f988-cca3-4825-b205-e1627c1f20d7",
        "part": "whole"
       },
       "id": "ced98258-e448-4347-986e-f3526acd75b6"
      }
     }
    },
    "b1cbc770-2131-4f3c-9b41-fcc1bd765e89": {
     "id": "b1cbc770-2131-4f3c-9b41-fcc1bd765e89",
     "prev": "3dde99f5-e421-4954-881f-5736e7fc006d",
     "regions": {
      "e33ed2fb-b4c6-4739-8859-cd23e915bd5c": {
       "attrs": {
        "height": 0.8,
        "width": 0.8,
        "x": 0.1,
        "y": 0.1
       },
       "content": {
        "cell": "a08b5c7e-3a7a-47ee-9711-0b42d2cf17da",
        "part": "whole"
       },
       "id": "e33ed2fb-b4c6-4739-8859-cd23e915bd5c"
      }
     }
    },
    "b60e27ff-e892-418d-af3b-b3a717ef7f56": {
     "id": "b60e27ff-e892-418d-af3b-b3a717ef7f56",
     "prev": "a4745f2a-e6f7-4fc0-9af1-3c05a58ec797",
     "regions": {
      "8f768d8a-ca90-475e-ba92-4dc113f6b037": {
       "attrs": {
        "height": 0.8,
        "width": 0.8,
        "x": 0.1,
        "y": 0.1
       },
       "content": {
        "cell": "5a060da5-2c85-4c0f-9f46-6613ff62bd10",
        "part": "whole"
       },
       "id": "8f768d8a-ca90-475e-ba92-4dc113f6b037"
      }
     }
    },
    "b992070d-7a71-4e1c-bb01-985b084ffb14": {
     "id": "b992070d-7a71-4e1c-bb01-985b084ffb14",
     "prev": "87457c81-0c7f-4614-8076-5d9e6063e924",
     "regions": {
      "790a454d-255e-4040-a934-12420b0d5535": {
       "attrs": {
        "height": 0.8,
        "width": 0.8,
        "x": 0.1,
        "y": 0.1
       },
       "content": {
        "cell": "c4e701e5-7ef8-4f41-a692-8df45b410d17",
        "part": "whole"
       },
       "id": "790a454d-255e-4040-a934-12420b0d5535"
      }
     }
    },
    "ba159dad-2ddb-429a-a64d-e41630e4467e": {
     "id": "ba159dad-2ddb-429a-a64d-e41630e4467e",
     "prev": "eb9838a0-440a-4dd6-b573-fb3f48aa0fbc",
     "regions": {
      "96fb5f3d-2379-4849-bb5b-c39eba2b9311": {
       "attrs": {
        "height": 0.8,
        "width": 0.8,
        "x": 0.1,
        "y": 0.1
       },
       "content": {
        "cell": "0f8358b9-d864-406f-8ad6-a03cf431712a",
        "part": "whole"
       },
       "id": "96fb5f3d-2379-4849-bb5b-c39eba2b9311"
      }
     }
    },
    "c26dd602-cf3c-4070-a51c-d12ddd8f8716": {
     "id": "c26dd602-cf3c-4070-a51c-d12ddd8f8716",
     "prev": "00016233-72fc-4bd5-84a1-fab78bf7e89f",
     "regions": {
      "0d1b0cbd-cd13-4d16-aaf4-9818d8291369": {
       "attrs": {
        "height": 0.8,
        "width": 0.8,
        "x": 0.1,
        "y": 0.1
       },
       "content": {
        "cell": "d2e65a1f-2c35-44f0-adf0-f738a64dafed",
        "part": "whole"
       },
       "id": "0d1b0cbd-cd13-4d16-aaf4-9818d8291369"
      }
     }
    },
    "c4fbbdca-2110-40a4-9807-57aa66e315f3": {
     "id": "c4fbbdca-2110-40a4-9807-57aa66e315f3",
     "prev": "70dc50e6-2d49-46ad-a591-8a9664e10590",
     "regions": {
      "94619c1e-de76-47db-ae9a-b75091b74a65": {
       "attrs": {
        "height": 0.8,
        "width": 0.8,
        "x": 0.1,
        "y": 0.1
       },
       "content": {
        "cell": "bed1de6f-c355-432a-8b63-05d75e9479e9",
        "part": "whole"
       },
       "id": "94619c1e-de76-47db-ae9a-b75091b74a65"
      }
     }
    },
    "cbca8a54-c04b-4cc5-8113-737066461106": {
     "id": "cbca8a54-c04b-4cc5-8113-737066461106",
     "prev": "0ffee127-a36a-4861-bc92-d878c1aedc57",
     "regions": {
      "1a8ed31b-6875-4fd1-aa5a-a9976646d8a9": {
       "attrs": {
        "height": 0.8,
        "width": 0.8,
        "x": 0.1,
        "y": 0.1
       },
       "content": {
        "cell": "cfebb330-9965-485c-8837-268876c4b2d2",
        "part": "whole"
       },
       "id": "1a8ed31b-6875-4fd1-aa5a-a9976646d8a9"
      }
     }
    },
    "cca6fe34-3d26-410f-8810-e049137f4909": {
     "id": "cca6fe34-3d26-410f-8810-e049137f4909",
     "prev": "cbca8a54-c04b-4cc5-8113-737066461106",
     "regions": {
      "5a668fba-5825-40ae-af3f-26dfed226a83": {
       "attrs": {
        "height": 0.8,
        "width": 0.8,
        "x": 0.1,
        "y": 0.1
       },
       "content": {
        "cell": "c2044eb2-77ec-47db-a0e4-3bd4e0716a7d",
        "part": "whole"
       },
       "id": "5a668fba-5825-40ae-af3f-26dfed226a83"
      }
     }
    },
    "cf776834-9271-49a1-b9bb-7668ee6faca1": {
     "id": "cf776834-9271-49a1-b9bb-7668ee6faca1",
     "prev": "b992070d-7a71-4e1c-bb01-985b084ffb14",
     "regions": {
      "a4ec667a-d54d-4511-95d2-5e0817309626": {
       "attrs": {
        "height": 0.8,
        "width": 0.8,
        "x": 0.1,
        "y": 0.1
       },
       "content": {
        "cell": "fa1e3631-b89f-485e-bf6f-716592f79091",
        "part": "whole"
       },
       "id": "a4ec667a-d54d-4511-95d2-5e0817309626"
      }
     }
    },
    "d0ec2984-a394-4a65-a94e-dece5f91c963": {
     "id": "d0ec2984-a394-4a65-a94e-dece5f91c963",
     "prev": "d40f39f3-4a38-49b8-8b63-40788797accf",
     "regions": {
      "67997de2-583e-4443-8c17-c32826fb4697": {
       "attrs": {
        "height": 0.8,
        "width": 0.8,
        "x": 0.1,
        "y": 0.1
       },
       "content": {
        "cell": "6c890a38-6a7e-4d3e-8a07-309c12476b27",
        "part": "whole"
       },
       "id": "67997de2-583e-4443-8c17-c32826fb4697"
      }
     }
    },
    "d40f39f3-4a38-49b8-8b63-40788797accf": {
     "id": "d40f39f3-4a38-49b8-8b63-40788797accf",
     "prev": "ae7ac090-ad4b-4679-8ef8-3dc8307c663d",
     "regions": {
      "0f5369b8-4e78-4c81-86cd-45f6e4fb0ba4": {
       "attrs": {
        "height": 0.8,
        "width": 0.8,
        "x": 0.1,
        "y": 0.1
       },
       "content": {
        "cell": "97f22bea-689f-4a0b-9da9-f1371b09a260",
        "part": "whole"
       },
       "id": "0f5369b8-4e78-4c81-86cd-45f6e4fb0ba4"
      }
     }
    },
    "d427d025-8f1c-4ec7-b53a-196f22ea0dc9": {
     "id": "d427d025-8f1c-4ec7-b53a-196f22ea0dc9",
     "prev": "0ac62a8b-2156-4085-90a1-fbfe71350045",
     "regions": {
      "6f932cbb-a302-4941-88fb-3cd61ae8c8fc": {
       "attrs": {
        "height": 0.8,
        "width": 0.8,
        "x": 0.1,
        "y": 0.1
       },
       "content": {
        "cell": "f6879d85-4345-4d4a-b4a4-99f22f030e5d",
        "part": "whole"
       },
       "id": "6f932cbb-a302-4941-88fb-3cd61ae8c8fc"
      }
     }
    },
    "e06ee676-fe06-4cf1-ab7f-3c6e9b6b9391": {
     "id": "e06ee676-fe06-4cf1-ab7f-3c6e9b6b9391",
     "prev": "59e6a496-f273-477f-9c55-375ea84922f8",
     "regions": {
      "b1309f43-ce1c-4a4a-a234-f3e0d380826a": {
       "attrs": {
        "height": 0.8,
        "width": 0.8,
        "x": 0.1,
        "y": 0.1
       },
       "content": {
        "cell": "e371f173-f224-43dc-940e-4bd74f68eaba",
        "part": "whole"
       },
       "id": "b1309f43-ce1c-4a4a-a234-f3e0d380826a"
      }
     }
    },
    "e1eda1bc-5a3c-4127-bfa3-8b5fe4a30e76": {
     "id": "e1eda1bc-5a3c-4127-bfa3-8b5fe4a30e76",
     "prev": "d0ec2984-a394-4a65-a94e-dece5f91c963",
     "regions": {
      "e4de577b-e7c5-445a-8076-facc6aa988a2": {
       "attrs": {
        "height": 0.8,
        "width": 0.8,
        "x": 0.1,
        "y": 0.1
       },
       "content": {
        "cell": "80dd339a-7198-4817-84c6-4c618df99976",
        "part": "whole"
       },
       "id": "e4de577b-e7c5-445a-8076-facc6aa988a2"
      }
     }
    },
    "ea8e9bcc-e7ac-41db-9fda-a68cdd913577": {
     "id": "ea8e9bcc-e7ac-41db-9fda-a68cdd913577",
     "prev": "ba159dad-2ddb-429a-a64d-e41630e4467e",
     "regions": {
      "077be5be-79e6-4710-be6b-9405ab86020a": {
       "attrs": {
        "height": 0.8,
        "width": 0.8,
        "x": 0.1,
        "y": 0.1
       },
       "content": {
        "cell": "8984a030-99f6-4c89-9c48-63b7eb480b1a",
        "part": "whole"
       },
       "id": "077be5be-79e6-4710-be6b-9405ab86020a"
      }
     }
    },
    "eb5aff10-10db-4b0a-8545-9addf52b6df3": {
     "id": "eb5aff10-10db-4b0a-8545-9addf52b6df3",
     "prev": "4cd0ed68-6696-487a-8be9-ddafa36745d4",
     "regions": {
      "9ad51702-1724-4c91-b06e-43260c0c539c": {
       "attrs": {
        "height": 0.8,
        "width": 0.8,
        "x": 0.1,
        "y": 0.1
       },
       "content": {
        "cell": "58553ddf-40eb-4c82-9046-78e2ca7a4896",
        "part": "whole"
       },
       "id": "9ad51702-1724-4c91-b06e-43260c0c539c"
      }
     }
    },
    "eb9838a0-440a-4dd6-b573-fb3f48aa0fbc": {
     "id": "eb9838a0-440a-4dd6-b573-fb3f48aa0fbc",
     "prev": "68e653df-eeae-4d19-b0b8-83204404eb2c",
     "regions": {
      "53bb2c36-be48-4fe5-bce6-8e09e1d70766": {
       "attrs": {
        "height": 0.8,
        "width": 0.8,
        "x": 0.1,
        "y": 0.1
       },
       "content": {
        "cell": "e59bb352-ce3f-4e2b-a689-82ee8cbbef57",
        "part": "whole"
       },
       "id": "53bb2c36-be48-4fe5-bce6-8e09e1d70766"
      }
     }
    },
    "ebd1629c-2c4c-4a7f-8d79-9ee7b3d6d866": {
     "id": "ebd1629c-2c4c-4a7f-8d79-9ee7b3d6d866",
     "prev": "e1eda1bc-5a3c-4127-bfa3-8b5fe4a30e76",
     "regions": {
      "07a28863-b09d-4ab1-862f-9ef2cc671f18": {
       "attrs": {
        "height": 0.8,
        "width": 0.8,
        "x": 0.1,
        "y": 0.1
       },
       "content": {
        "cell": "fb58c163-dd10-4153-9aa1-411fd8e6879b",
        "part": "whole"
       },
       "id": "07a28863-b09d-4ab1-862f-9ef2cc671f18"
      }
     }
    },
    "fb306cc2-625c-4d05-a1bf-6a9272911d70": {
     "id": "fb306cc2-625c-4d05-a1bf-6a9272911d70",
     "prev": "61628011-57db-438b-83ad-ef43aea8692b",
     "regions": {
      "fc8ee1bc-0b69-410b-9f87-9b4e2a45f692": {
       "attrs": {
        "height": 0.8,
        "width": 0.8,
        "x": 0.1,
        "y": 0.1
       },
       "content": {
        "cell": "ea9baca7-eba1-44c9-a335-d56277352202",
        "part": "whole"
       },
       "id": "fc8ee1bc-0b69-410b-9f87-9b4e2a45f692"
      }
     }
    }
   },
   "themes": {}
  }
 },
 "nbformat": 4,
 "nbformat_minor": 0
}
