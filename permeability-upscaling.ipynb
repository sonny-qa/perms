{
 "cells": [
  {
   "cell_type": "markdown",
   "metadata": {},
   "source": [
    "First, Load input data in form(x,y,z,x/y_perm,z_perm)"
   ]
  },
  {
   "cell_type": "code",
   "execution_count": 1,
   "metadata": {
    "collapsed": true
   },
   "outputs": [],
   "source": [
    "import xlrd\n",
    "\n",
    "x_perm = []\n",
    "y_perm = []\n",
    "z_perm = []\n",
    "\n",
    "#load data\n",
    "book = xlrd.open_workbook('data2.xlsx')\n",
    "sheet = book.sheet_by_name('Sheet1')\n",
    "data =[[sheet.cell_value(r,c) for c in range(2)] for r in range(60)]\n",
    "y_perm2 = []\n",
    "for i in range(len(data)):\n",
    "    y_perm.append(data[i][0])\n",
    "    x_perm.append(data[i][0])\n",
    "    z_perm.append(data[i][1])"
   ]
  },
  {
   "cell_type": "markdown",
   "metadata": {},
   "source": [
    "Then create cells list - which consists of a dictionary for each cell, {x,y,z,x_perm,y_perm, z_perm}"
   ]
  },
  {
   "cell_type": "code",
   "execution_count": 2,
   "metadata": {
    "collapsed": true
   },
   "outputs": [],
   "source": [
    "cells=[]\n",
    "\n",
    "#create cell dictionaries\n",
    "for z in range(1,4): \n",
    "    for y in range(1,5):\n",
    "        for x in range(1,6):\n",
    "            mydict = {}\n",
    "            mydict['y']=y\n",
    "            mydict['x']=x\n",
    "            mydict['z']=z\n",
    "            cells.append(mydict) \n",
    "            \n",
    "#populate dictionaries with data\n",
    "\n",
    "for i in range(len(cells)):\n",
    "\n",
    "    cells[i]['y_perm']=y_perm[i]\n",
    "    cells[i]['x_perm']=x_perm[i]\n",
    "    cells[i]['z_perm']=z_perm[i]"
   ]
  },
  {
   "cell_type": "markdown",
   "metadata": {},
   "source": [
    "Create method for airthmetic average of a list of cells or a list of values"
   ]
  },
  {
   "cell_type": "code",
   "execution_count": 3,
   "metadata": {
    "collapsed": true
   },
   "outputs": [],
   "source": [
    "def arithmetic(cells,k_to_avg):\n",
    "    #it should take a list of cells and find the arithmetic average\n",
    "    length = len(cells)\n",
    "    if (type(cells[0])==dict):\n",
    "        a = reduce(lambda x,y: x+y,(map(lambda x: x[k_to_avg] ,cells)))\n",
    "    else:\n",
    "        a = reduce(lambda x,y: x+y, map(lambda item: item ,cells))\n",
    "        \n",
    "    return(a/length)"
   ]
  },
  {
   "cell_type": "markdown",
   "metadata": {},
   "source": [
    "Create method for harmonic average of a list of cells or a list of values"
   ]
  },
  {
   "cell_type": "code",
   "execution_count": 4,
   "metadata": {
    "collapsed": true
   },
   "outputs": [],
   "source": [
    "def harmonic(cells,k_to_avg):\n",
    "    #it should take a list of cells or list of values and find the harmonic average\n",
    "    length = len(cells)\n",
    "    \n",
    "    if (type(cells[0])==dict):\n",
    "        a = reduce(lambda x,y: x+y, map(lambda item: 1/(item[k_to_avg]) ,cells))\n",
    "    else:\n",
    "        a = reduce(lambda x,y: x+y, map(lambda item: 1/(item) ,cells))\n",
    "    \n",
    "    return(length/a)"
   ]
  },
  {
   "cell_type": "markdown",
   "metadata": {},
   "source": [
    "Create method for geometric average of a list of cells or a list of values"
   ]
  },
  {
   "cell_type": "code",
   "execution_count": 5,
   "metadata": {
    "collapsed": true
   },
   "outputs": [],
   "source": [
    "def geometric(cells,k_to_avg):\n",
    "    #it should take a list of cells and take the geometric average\n",
    "    length = len(cells)\n",
    "    if(type(cells[0])==dict):\n",
    "        a = reduce(lambda x,y: x*y,(map(lambda x: x[k_to_avg] ,cells)))\n",
    "    else:\n",
    "        a = reduce(lambda x,y: x*y,(map(lambda x: x ,cells)))\n",
    "    return(a**(1.0/length))"
   ]
  },
  {
   "cell_type": "markdown",
   "metadata": {},
   "source": [
    "Calculate arithmetic averages for Kx, Ky and Kz"
   ]
  },
  {
   "cell_type": "code",
   "execution_count": 9,
   "metadata": {
    "collapsed": false
   },
   "outputs": [
    {
     "name": "stdout",
     "output_type": "stream",
     "text": [
      "141.133333333\n",
      "141.133333333\n",
      "4.78166666667\n"
     ]
    }
   ],
   "source": [
    "print(arithmetic(cells,'x_perm'))\n",
    "print(arithmetic(cells,'y_perm'))\n",
    "print(arithmetic(cells,'z_perm'))"
   ]
  },
  {
   "cell_type": "markdown",
   "metadata": {},
   "source": [
    "Calculate harmonic averages for Kx, Ky and Kz"
   ]
  },
  {
   "cell_type": "code",
   "execution_count": 11,
   "metadata": {
    "collapsed": false
   },
   "outputs": [
    {
     "name": "stdout",
     "output_type": "stream",
     "text": [
      "92.012156271\n",
      "92.012156271\n",
      "2.14895296487\n"
     ]
    }
   ],
   "source": [
    "print(harmonic(cells,'x_perm'))\n",
    "print(harmonic(cells,'y_perm'))\n",
    "print(harmonic(cells,'z_perm'))"
   ]
  },
  {
   "cell_type": "markdown",
   "metadata": {},
   "source": [
    "Calculate geometric averages for Kx, Ky and Kz"
   ]
  },
  {
   "cell_type": "code",
   "execution_count": 12,
   "metadata": {
    "collapsed": false
   },
   "outputs": [
    {
     "name": "stdout",
     "output_type": "stream",
     "text": [
      "112.010351441\n",
      "112.010351441\n",
      "3.04189797579\n"
     ]
    }
   ],
   "source": [
    "print(geometric(cells,'x_perm'))\n",
    "print(geometric(cells,'y_perm'))\n",
    "print(geometric(cells,'z_perm'))"
   ]
  },
  {
   "cell_type": "markdown",
   "metadata": {},
   "source": [
    "Define the Carswell and Parsons Upper bound function"
   ]
  },
  {
   "cell_type": "code",
   "execution_count": 13,
   "metadata": {
    "collapsed": true
   },
   "outputs": [],
   "source": [
    "def carswell_upper(cells,k_to_avg,dim1,dim2,dim3):\n",
    "    values = []\n",
    "    results = []\n",
    "    \n",
    "    #find max dimensions of all dims\n",
    "    d1_max = reduce(lambda x,y: x if x>y else y,map(lambda x: x[dim1] ,cells))\n",
    "    d2_max = reduce(lambda x,y: x if x>y else y,map(lambda x: x[dim2] ,cells))\n",
    "    d3_max = reduce(lambda x,y: x if x>y else y,map(lambda x: x[dim3] ,cells))\n",
    "   \n",
    "    for i in range(1,d3_max+1):\n",
    "        for j in range(1,d2_max+1):\n",
    "            for k in range(1,d1_max+1):\n",
    "                #find cells that meet the current step\n",
    "                values.append(filter(lambda cell: cell[dim3]== i and cell[dim2]==j and cell[dim1]==k,cells)[0])\n",
    "        \n",
    "        #calculate arithmetic mean of values\n",
    "        harms = arithmetic(map(lambda x: x,values),k_to_avg)\n",
    "            \n",
    "        #clear the temporary array and save the harmonic means\n",
    "        values =[]\n",
    "        results.append(harms)\n",
    "    #calculate and return the harmonic mean of harmonic means\n",
    "    return(harmonic(results,k_to_avg))"
   ]
  },
  {
   "cell_type": "markdown",
   "metadata": {},
   "source": [
    "Define Carswell and Parsons lower bounds function"
   ]
  },
  {
   "cell_type": "code",
   "execution_count": 14,
   "metadata": {
    "collapsed": true
   },
   "outputs": [],
   "source": [
    "def carswell_lower(cells,k_to_avg,dim1,dim2,dim3):\n",
    "    values = []\n",
    "    results = []\n",
    "    \n",
    "    #find max dimensions of all dims\n",
    "    d1_max = reduce(lambda x,y: x if x>y else y,map(lambda x: x[dim1] ,cells))\n",
    "    d2_max = reduce(lambda x,y: x if x>y else y,map(lambda x: x[dim2] ,cells))\n",
    "    d3_max = reduce(lambda x,y: x if x>y else y,map(lambda x: x[dim3] ,cells))\n",
    "   \n",
    "    for i in range(1,d3_max+1):\n",
    "        for j in range(1,d2_max+1):\n",
    "            for k in range(1,d1_max+1):\n",
    "                #find cells that meet the current step\n",
    "                values.append(filter(lambda cell: cell[dim3]== i and cell[dim2]==j and cell[dim1]==k,cells)[0])\n",
    "            \n",
    "            #calculate harmonic mean of values\n",
    "            harms = harmonic(map(lambda x: x,values),k_to_avg)\n",
    "            #clear the temporary array and save the harmonic means\n",
    "            values =[]\n",
    "            results.append(harms)\n",
    "    #calculate and return the arithmetic mean\n",
    "    return(arithmetic(results,k_to_avg))"
   ]
  },
  {
   "cell_type": "markdown",
   "metadata": {},
   "source": [
    "Calculate upper carswell and parsons bounds"
   ]
  },
  {
   "cell_type": "code",
   "execution_count": 18,
   "metadata": {
    "collapsed": false
   },
   "outputs": [
    {
     "name": "stdout",
     "output_type": "stream",
     "text": [
      "128.642204826\n",
      "125.917252914\n",
      "2.83882035692\n"
     ]
    }
   ],
   "source": [
    "print(carswell_upper(cells,'x_perm','y','z','x'))\n",
    "print(carswell_upper(cells,'y_perm','x','z','y'))\n",
    "print(carswell_upper(cells,'z_perm','x','y','z'))"
   ]
  },
  {
   "cell_type": "markdown",
   "metadata": {},
   "source": [
    "Calculate lower carswell bounds"
   ]
  },
  {
   "cell_type": "code",
   "execution_count": 22,
   "metadata": {
    "collapsed": false
   },
   "outputs": [
    {
     "name": "stdout",
     "output_type": "stream",
     "text": [
      "119.045514943\n",
      "120.164955901\n",
      "2.79792093858\n"
     ]
    }
   ],
   "source": [
    "print(carswell_lower(cells,'x_perm','x','y','z'))\n",
    "print(carswell_lower(cells,'y_perm','y','x','z'))\n",
    "print(carswell_lower(cells,'z_perm','z','x','y'))"
   ]
  },
  {
   "cell_type": "markdown",
   "metadata": {},
   "source": [
    "Define Weiner upper bound (Kx, Ky, Kz) as Arithmetic mean"
   ]
  },
  {
   "cell_type": "code",
   "execution_count": 23,
   "metadata": {
    "collapsed": false
   },
   "outputs": [
    {
     "name": "stdout",
     "output_type": "stream",
     "text": [
      "141.133333333\n",
      "141.133333333\n",
      "4.78166666667\n"
     ]
    }
   ],
   "source": [
    "print(arithmetic(cells,'x_perm'))\n",
    "print(arithmetic(cells,'y_perm'))\n",
    "print(arithmetic(cells,'z_perm'))"
   ]
  },
  {
   "cell_type": "markdown",
   "metadata": {},
   "source": [
    "Define Weinter lower bounds (Kx,Ky,Kz) as Harmonic means"
   ]
  },
  {
   "cell_type": "code",
   "execution_count": 24,
   "metadata": {
    "collapsed": false
   },
   "outputs": [
    {
     "name": "stdout",
     "output_type": "stream",
     "text": [
      "92.012156271\n",
      "92.012156271\n",
      "2.14895296487\n"
     ]
    }
   ],
   "source": [
    "print(harmonic(cells,'x_perm'))\n",
    "print(harmonic(cells,'y_perm'))\n",
    "print(harmonic(cells,'z_perm'))"
   ]
  },
  {
   "cell_type": "code",
   "execution_count": null,
   "metadata": {
    "collapsed": true
   },
   "outputs": [],
   "source": []
  }
 ],
 "metadata": {
  "anaconda-cloud": {},
  "kernelspec": {
   "display_name": "Python [Root]",
   "language": "python",
   "name": "Python [Root]"
  },
  "language_info": {
   "codemirror_mode": {
    "name": "ipython",
    "version": 2
   },
   "file_extension": ".py",
   "mimetype": "text/x-python",
   "name": "python",
   "nbconvert_exporter": "python",
   "pygments_lexer": "ipython2",
   "version": "2.7.12"
  }
 },
 "nbformat": 4,
 "nbformat_minor": 0
}
