{
 "cells": [
  {
   "cell_type": "code",
   "execution_count": 668,
   "metadata": {
    "collapsed": false
   },
   "outputs": [],
   "source": [
    "from mpl_toolkits.mplot3d import Axes3D\n",
    "import matplotlib.pyplot as plt\n",
    "import numpy as np\n",
    "from itertools import product, combinations\n"
   ]
  },
  {
   "cell_type": "code",
   "execution_count": null,
   "metadata": {
    "collapsed": false
   },
   "outputs": [],
   "source": []
  },
  {
   "cell_type": "code",
   "execution_count": null,
   "metadata": {
    "collapsed": false
   },
   "outputs": [],
   "source": []
  },
  {
   "cell_type": "code",
   "execution_count": 128,
   "metadata": {
    "collapsed": true
   },
   "outputs": [],
   "source": [
    "ids = [x for x in range(1,13)]\n",
    "perms = [50,100,200,50,100,50,500,0,80,100,50,800]\n",
    "\n"
   ]
  },
  {
   "cell_type": "code",
   "execution_count": 687,
   "metadata": {
    "collapsed": false
   },
   "outputs": [],
   "source": [
    "cells = []\n",
    "for i in range(len(ids)):\n",
    "    mydict = {}\n",
    "    mydict['id']=ids[i]\n",
    "    mydict['perm']=perms[i]\n",
    "    mydict['vol']=vols[i]\n",
    "    \n",
    "    cells.append(mydict)\n"
   ]
  },
  {
   "cell_type": "code",
   "execution_count": 688,
   "metadata": {
    "collapsed": false
   },
   "outputs": [],
   "source": [
    "import xlrd\n",
    "\n",
    "x_perm = []\n",
    "y_perm = []\n",
    "z_perm = []\n",
    "\n",
    "#load data\n",
    "book = xlrd.open_workbook('data.xlsx')\n",
    "sheet = book.sheet_by_name('Sheet1')\n",
    "data =[[sheet.cell_value(r,c) for c in range(2)] for r in range(60)]\n",
    "y_perm2 = []\n",
    "for i in range(len(data)):\n",
    "    y_perm.append(data[i][0])\n",
    "    x_perm.append(data[i][0])\n",
    "    z_perm.append(data[i][1])"
   ]
  },
  {
   "cell_type": "code",
   "execution_count": null,
   "metadata": {
    "collapsed": false
   },
   "outputs": [],
   "source": []
  },
  {
   "cell_type": "code",
   "execution_count": 689,
   "metadata": {
    "collapsed": true
   },
   "outputs": [],
   "source": [
    "cells=[]\n",
    "\n",
    "#create cell dictionaries\n",
    "for z in range(1,4): \n",
    "    for y in range(1,5):\n",
    "        for x in range(1,6):\n",
    "            mydict = {}\n",
    "            mydict['y']=y\n",
    "            mydict['x']=x\n",
    "            mydict['z']=z\n",
    "            cells.append(mydict) \n",
    "\n"
   ]
  },
  {
   "cell_type": "code",
   "execution_count": 690,
   "metadata": {
    "collapsed": true
   },
   "outputs": [],
   "source": [
    "#populate dictionaries with data\n",
    "\n",
    "for i in range(len(cells)):\n",
    "\n",
    "    cells[i]['y_perm']=y_perm[i]\n",
    "    cells[i]['x_perm']=x_perm[i]\n",
    "    cells[i]['z_perm']=z_perm[i]"
   ]
  },
  {
   "cell_type": "code",
   "execution_count": 386,
   "metadata": {
    "collapsed": false
   },
   "outputs": [],
   "source": [
    "def arith(clist,k_to_avg,var_dim):\n",
    "    \n",
    "    results = []\n",
    "    #find max range of variable dimension\n",
    "    for i in range(len(cells)):\n",
    "        start = 0\n",
    "        if ((cells[i][var_dim]) > start ):\n",
    "            start = (cells[i][var_dim])\n",
    "    length = start\n",
    "    \n",
    "    \n",
    "    #loop over all slices\n",
    "    current = 0\n",
    "    count = 0\n",
    "    avg = 0\n",
    "    for i in range(1,length+1):\n",
    "        for j in range(len(cells)):\n",
    "            if(cells[j][var_dim] ==i):\n",
    "                count+=1\n",
    "                current += cells[j][k_to_avg]  \n",
    "                avg =current/count\n",
    "        results.append(avg)\n",
    "        current = 0\n",
    "        count = 0\n",
    "    return(sum(results)/length)"
   ]
  },
  {
   "cell_type": "code",
   "execution_count": 387,
   "metadata": {
    "collapsed": false
   },
   "outputs": [
    {
     "data": {
      "text/plain": [
       "141.13333333333333"
      ]
     },
     "execution_count": 387,
     "metadata": {},
     "output_type": "execute_result"
    }
   ],
   "source": [
    "arith(cells,'x_perm','z')"
   ]
  },
  {
   "cell_type": "code",
   "execution_count": 376,
   "metadata": {
    "collapsed": false
   },
   "outputs": [],
   "source": [
    "def harm(clist,k_to_avg,var_dim):\n",
    "    \n",
    "    results = []\n",
    "    #find max range of variable dimension\n",
    "    for i in range(len(cells)):\n",
    "        start = 0\n",
    "        if ((cells[i][var_dim]) > start ):\n",
    "            start = (cells[i][var_dim])\n",
    "    length = start\n",
    "    \n",
    "    \n",
    "    #loop over all slices\n",
    "    current = 0\n",
    "    count = 0\n",
    "    avg = 0\n",
    "    for i in range(1,length+1):\n",
    "        for j in range(len(cells)):\n",
    "            if(cells[j][var_dim] ==i):\n",
    "                count+=1\n",
    "                current += cells[j][k_to_avg]\n",
    "                avg =current/count\n",
    "                \n",
    "        \n",
    "        results.append(avg)\n",
    "        current = 0\n",
    "        count = 0\n",
    "    r =0\n",
    "    for item in results:\n",
    "        r +=(1/item)\n",
    "    return(length/r)\n",
    "        "
   ]
  },
  {
   "cell_type": "code",
   "execution_count": 430,
   "metadata": {
    "collapsed": false
   },
   "outputs": [],
   "source": [
    "def geo(clist,k_to_avg,var_dim):\n",
    "    \n",
    "    results = []\n",
    "    #find max range of variable dimension\n",
    "    for i in range(len(cells)):\n",
    "        start = 0\n",
    "        if ((cells[i][var_dim]) > start ):\n",
    "            start = (cells[i][var_dim])\n",
    "    length = start\n",
    "    \n",
    "    \n",
    "    #loop over all slices\n",
    "    current = 0\n",
    "    count = 0\n",
    "    avg = 0\n",
    "    for i in range(1,length+1):\n",
    "        for j in range(len(cells)):\n",
    "            if(cells[j][var_dim] ==i):\n",
    "                count+=1\n",
    "                current += cells[j][k_to_avg]\n",
    "                avg =current/count\n",
    "                \n",
    "        \n",
    "        results.append(avg)\n",
    "        current = 0\n",
    "        count = 0\n",
    "        \n",
    "    return ((reduce(lambda x, y: x*y, results))**float((1.0/length)))\n",
    "    \n",
    "        "
   ]
  },
  {
   "cell_type": "markdown",
   "metadata": {},
   "source": [
    "Calculate Arithmetic means"
   ]
  },
  {
   "cell_type": "code",
   "execution_count": 400,
   "metadata": {
    "collapsed": false
   },
   "outputs": [
    {
     "name": "stdout",
     "output_type": "stream",
     "text": [
      "('x_perm: ', 141.13333333333333)\n",
      "('y_perm: ', 141.13333333333333)\n",
      "('z_perm: ', 4.68)\n"
     ]
    }
   ],
   "source": [
    "print('x_perm: ',arith(cells,'x_perm','z'))\n",
    "print('y_perm: ',arith(cells,'y_perm','y'))\n",
    "print('z_perm: ',arith(cells,'z_perm','x'))"
   ]
  },
  {
   "cell_type": "markdown",
   "metadata": {},
   "source": [
    "Calculate Harmonic means"
   ]
  },
  {
   "cell_type": "code",
   "execution_count": 403,
   "metadata": {
    "collapsed": false
   },
   "outputs": [
    {
     "name": "stdout",
     "output_type": "stream",
     "text": [
      "('x_perm', 128.64220482551403)\n",
      "('y_perm', 125.91725291424663)\n",
      "('z_perm', 2.6044849892389443)\n"
     ]
    }
   ],
   "source": [
    "print('x_perm',harm(cells,'x_perm','x'))\n",
    "print('y_perm',harm(cells,'y_perm','y'))\n",
    "print('z_perm',harm(cells,'z_perm','z'))"
   ]
  },
  {
   "cell_type": "markdown",
   "metadata": {},
   "source": [
    "Calculate Geometric means"
   ]
  },
  {
   "cell_type": "code",
   "execution_count": 431,
   "metadata": {
    "collapsed": false
   },
   "outputs": [
    {
     "name": "stdout",
     "output_type": "stream",
     "text": [
      "('x_perm', 130.44265768032574)\n",
      "('y_perm', 132.75390012402175)\n",
      "('z_perm', 4.359441791612165)\n"
     ]
    }
   ],
   "source": [
    "print('x_perm',geo(cells,'x_perm','z'))\n",
    "print('y_perm',geo(cells,'y_perm','y'))\n",
    "print('z_perm',geo(cells,'z_perm','x'))"
   ]
  },
  {
   "cell_type": "code",
   "execution_count": 675,
   "metadata": {
    "collapsed": false
   },
   "outputs": [],
   "source": [
    "def carswell_max(clist,k_to_avg,**kwargs):\n",
    "    dim1 = kwargs.get('dim1', None)\n",
    "    dim2 = kwargs.get('dim2',0)\n",
    "    \n",
    "    results = []\n",
    "    results2 = []\n",
    "    \n",
    "    for i in range(len(cells)):\n",
    "        start_d1 = 0\n",
    "        start_d2 = 0\n",
    "        if ((cells[i][dim1]) > start_d1 ):\n",
    "            start_d1 = (cells[i][dim1])\n",
    "        if ((dim2!= 0) and (cells[i][dim2]) > start_d2 ):\n",
    "            start_d2 = (cells[i][dim2])\n",
    "    length1 = start_d1\n",
    "    length2 = start_d2\n",
    "    \n",
    "    for j in range(1,length1+1):\n",
    "        val  =filter(lambda x: x[dim1] == j, cells)\n",
    "        result = ([x[k_to_avg] for x in val])\n",
    "        \n",
    "        results.append(result)\n",
    "    \n",
    "    #remove first empty list\n",
    "  \n",
    "    \n",
    "    #calculate arith average of selected values\n",
    "    for item in results:\n",
    "        l = len(item)\n",
    "        tot = (reduce(lambda x, y: (x+y), item))\n",
    "        results2.append(tot/l)\n",
    "    \n",
    "\n",
    "    #return the harmonic average of the arithmetic averages\n",
    "    return(len(results2)/reduce(lambda x,y: x+y, (map(lambda x: 1/x, results2))))"
   ]
  },
  {
   "cell_type": "code",
   "execution_count": 676,
   "metadata": {
    "collapsed": false
   },
   "outputs": [
    {
     "data": {
      "text/plain": [
       "2.6044849892389443"
      ]
     },
     "execution_count": 676,
     "metadata": {},
     "output_type": "execute_result"
    }
   ],
   "source": []
  },
  {
   "cell_type": "code",
   "execution_count": 694,
   "metadata": {
    "collapsed": false
   },
   "outputs": [],
   "source": [
    "def carswell_min(clist,k_to_avg,**kwargs):\n",
    "    dim1 = kwargs.get('dim1', None)\n",
    "    dim2 = kwargs.get('dim2',0)\n",
    "    \n",
    "    results = []\n",
    "    results2 = []\n",
    "    \n",
    "    for i in range(len(cells)):\n",
    "        start_d1 = 0\n",
    "        start_d2 = 0\n",
    "        if ((cells[i][dim1]) > start_d1 ):\n",
    "            start_d1 = (cells[i][dim1])\n",
    "        if ((dim2!= 0) and (cells[i][dim2]) > start_d2 ):\n",
    "            start_d2 = (cells[i][dim2])\n",
    "    length1 = start_d1\n",
    "    length2 = start_d2\n",
    "    \n",
    "    #loop over first dimension\n",
    "    for j in range(1,length1+1):\n",
    "        val  =filter(lambda x: x[dim1] == j, cells)\n",
    "        result = ([x[k_to_avg] for x in val])\n",
    "        \n",
    "        (results.append(result))\n",
    "        \n",
    "    #then over second dimension\n",
    "    for j in range(1,(length2+1)):\n",
    "        val  =filter(lambda x: x[dim2] == j, cells)\n",
    "        result = ([x[k_to_avg] for x in val])\n",
    "    \n",
    "        (results.append(result))    \n",
    "\n",
    "    #calculate the harmonic average of selected values\n",
    "    sums = [reduce(lambda x,y: x+y, map(lambda x: (1.0/x),item)) for item in results]\n",
    "    lens = ([len(a) for a in results])\n",
    "    \n",
    "    #then calculate the arithmetic average of the harmonic averages\n",
    "    return (reduce(lambda x,y: x+y,([lens[i]/sums[i] for i in range(len(sums))])))/len(sums)\n",
    " "
   ]
  },
  {
   "cell_type": "code",
   "execution_count": 695,
   "metadata": {
    "collapsed": false
   },
   "outputs": [
    {
     "data": {
      "text/plain": [
       "2.2634292263008904"
      ]
     },
     "execution_count": 695,
     "metadata": {},
     "output_type": "execute_result"
    }
   ],
   "source": [
    "carswell_min(cells,'z_perm',dim1='y',dim2='x')"
   ]
  },
  {
   "cell_type": "code",
   "execution_count": 693,
   "metadata": {
    "collapsed": false
   },
   "outputs": [
    {
     "data": {
      "text/plain": [
       "2.6044849892389443"
      ]
     },
     "execution_count": 693,
     "metadata": {},
     "output_type": "execute_result"
    }
   ],
   "source": [
    "carswell_max(cells,'z_perm',dim1='z')"
   ]
  },
  {
   "cell_type": "code",
   "execution_count": null,
   "metadata": {
    "collapsed": true
   },
   "outputs": [],
   "source": []
  }
 ],
 "metadata": {
  "anaconda-cloud": {},
  "kernelspec": {
   "display_name": "Python [Root]",
   "language": "python",
   "name": "Python [Root]"
  },
  "language_info": {
   "codemirror_mode": {
    "name": "ipython",
    "version": 2
   },
   "file_extension": ".py",
   "mimetype": "text/x-python",
   "name": "python",
   "nbconvert_exporter": "python",
   "pygments_lexer": "ipython2",
   "version": "2.7.12"
  }
 },
 "nbformat": 4,
 "nbformat_minor": 0
}
